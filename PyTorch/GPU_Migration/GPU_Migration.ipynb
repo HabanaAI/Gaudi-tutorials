{
 "cells": [
  {
   "cell_type": "markdown",
   "id": "68877607",
   "metadata": {},
   "source": [
    "Copyright (c) 2024 Habana Labs, Ltd. an Intel Company.  \n",
    "Copyright (c) 2017, Pytorch contributors All rights reserved.\n",
    "## BSD 3-Clause License\n",
    "Redistribution and use in source and binary forms, with or without modification, are permitted provided that the following conditions are met:\n",
    "\n",
    "Redistributions of source code must retain the above copyright notice, this list of conditions and the following disclaimer.\n",
    "Redistributions in binary form must reproduce the above copyright notice, this list of conditions and the following disclaimer in the documentation and/or other materials provided with the distribution.\n",
    "Neither the name of the copyright holder nor the names of its contributors may be used to endorse or promote products derived from this software without specific prior written permission.\n",
    "THIS SOFTWARE IS PROVIDED BY THE COPYRIGHT HOLDERS AND CONTRIBUTORS \"AS IS\" AND ANY EXPRESS OR IMPLIED WARRANTIES, INCLUDING, BUT NOT LIMITED TO, THE IMPLIED WARRANTIES OF MERCHANTABILITY AND FITNESS FOR A PARTICULAR PURPOSE ARE DISCLAIMED. IN NO EVENT SHALL THE COPYRIGHT HOLDER OR CONTRIBUTORS BE LIABLE FOR ANY DIRECT, INDIRECT, INCIDENTAL, SPECIAL, EXEMPLARY, OR CONSEQUENTIAL DAMAGES (INCLUDING, BUT NOT LIMITED TO, PROCUREMENT OF SUBSTITUTE GOODS OR SERVICES; LOSS OF USE, DATA, OR PROFITS; OR BUSINESS INTERRUPTION) HOWEVER CAUSED AND ON ANY THEORY OF LIABILITY, WHETHER IN CONTRACT, STRICT LIABILITY, OR TORT (INCLUDING NEGLIGENCE OR OTHERWISE) ARISING IN ANY WAY OUT OF THE USE OF THIS SOFTWARE, EVEN IF ADVISED OF THE POSSIBILITY OF SUCH DAMAGE."
   ]
  },
  {
   "cell_type": "markdown",
   "id": "16169a66",
   "metadata": {},
   "source": [
    "# Model Migration from GPU to the Intel&reg; Gaudi&reg; 2 AI Processor \n",
    "\n",
    "The GPU Migration toolkit simplifies migrating PyTorch models that run on GPU-based architecture to run on the Intel® Gaudi® AI accelerator. Rather than manually replacing Python API calls that have dependencies on GPU libraries with Gaudi-specific API calls, the toolkit automates this process so you can run your model with fewer modifications.  \n",
    "\n",
    "In this notebook we will demonstrate how to use the GPU Migration toolset on a ResNet50 model which is based on open source implementation of ResNet50.  \n",
    "\n",
    "Refer to the [GPU Migration Toolkit](https://docs.habana.ai/en/latest/PyTorch/PyTorch_Model_Porting/GPU_Migration_Toolkit/GPU_Migration_Toolkit.html) for more information.  \n",
    "\n",
    "In addtion to this ResNet50 migration, there are addtional GPU Migration example on the Intel Gaudi GitHub page [here](https://github.com/HabanaAI/Model-References/tree/master/PyTorch/examples/gpu_migration)"
   ]
  },
  {
   "cell_type": "markdown",
   "id": "8666669b",
   "metadata": {},
   "source": [
    "#### Clone the Model-References repository"
   ]
  },
  {
   "cell_type": "code",
   "execution_count": null,
   "id": "2a26ab48",
   "metadata": {},
   "outputs": [],
   "source": [
    "%cd ~/Gaudi-tutorials/PyTorch/GPU_Migration\n",
    "!git clone -b 1.18.0 https://github.com/habanaai/Model-References"
   ]
  },
  {
   "cell_type": "markdown",
   "id": "6a208072",
   "metadata": {},
   "source": [
    "#### Download dataset (Optional)\n",
    "To fully run this example you can download [Tiny ImageNet dataset](http://cs231n.stanford.edu/tiny-imagenet-200.zip). It needs to be organized according to PyTorch requirements, and as specified in the scripts of [imagenet-multiGPU.torch](https://github.com/soumith/imagenet-multiGPU.torch).   \n",
    "Run the cell below to continue downloading the dataset to your local folder and set it up for training."
   ]
  },
  {
   "cell_type": "markdown",
   "id": "bd9d9c58-f1e8-473c-8928-30e34a974b9c",
   "metadata": {},
   "source": [
    "> **Note: You do not need to have the dataset loaded to see the Migration steps and logging.**"
   ]
  },
  {
   "cell_type": "code",
   "execution_count": null,
   "id": "0fbdde0f-7630-45e4-b2f8-155c535c3ace",
   "metadata": {},
   "outputs": [],
   "source": [
    "!wget --progress=bar:force http://cs231n.stanford.edu/tiny-imagenet-200.zip\n",
    "!chmod 600 ./tiny-imagenet-200.zip\n",
    "import os;os.makedirs(\"/root/datasets/\", exist_ok=True)\n",
    "!unzip -q ./tiny-imagenet-200.zip  -x \"tiny-imagenet-200/test*\" -d /root/datasets/"
   ]
  },
  {
   "cell_type": "markdown",
   "id": "64847f32",
   "metadata": {},
   "source": [
    "#### Navigate to the model example to begin the run"
   ]
  },
  {
   "cell_type": "code",
   "execution_count": null,
   "id": "2212748b",
   "metadata": {
    "vscode": {
     "languageId": "shellscript"
    }
   },
   "outputs": [],
   "source": [
    "%cd ~/Gaudi-tutorials/PyTorch/GPU_Migration/Model-References/PyTorch/examples/gpu_migration/computer_vision/classification/torchvision"
   ]
  },
  {
   "cell_type": "markdown",
   "id": "f1c93d19",
   "metadata": {},
   "source": [
    "#### Import Habana Torch Library\n",
    "Look into train.py, you will see Line 20 where we import Intel Gaudi Torch core library for enabling lazy mode: "
   ]
  },
  {
   "cell_type": "code",
   "execution_count": null,
   "id": "ce44d1a1",
   "metadata": {
    "vscode": {
     "languageId": "shellscript"
    }
   },
   "outputs": [],
   "source": [
    "%%sh\n",
    "cat -n train.py | head -n 20 | tail -n 2"
   ]
  },
  {
   "cell_type": "markdown",
   "id": "1c5ef8c3",
   "metadata": {},
   "source": [
    "#### Placing mark_step()\n",
    "For lazy mode runs, you will have to place the mark_step() function after the optimizer and loss.backward calculations."
   ]
  },
  {
   "cell_type": "code",
   "execution_count": null,
   "id": "de5b273c",
   "metadata": {
    "vscode": {
     "languageId": "plaintext"
    }
   },
   "outputs": [],
   "source": [
    "%%sh\n",
    "cat -n train.py | head -n 50 | tail -n 14"
   ]
  },
  {
   "cell_type": "markdown",
   "id": "8a9a18ef-c6d1-486d-af0b-6800ee21ef34",
   "metadata": {},
   "source": [
    "> **Note: Starting from version 1.17.0, The GPU code can now be migrated by setting a single environment variable:**\n",
    ">```bash\n",
    ">PT_HPU_GPU_MIGRATION=1\n",
    ">```"
   ]
  },
  {
   "cell_type": "markdown",
   "id": "ea291f86",
   "metadata": {},
   "source": [
    "#### Run the following command to start multi-HPU training.\n",
    "We're now ready to run the training.  You will see that we've added GPU migration enabling environment variable `PT_HPU_GPU_MIGRATION=1` at the beginning of the run and using the logging command `GPU_MIGRATION_LOG_LEVEL=1` to show the output. There are no other changes to the run command are needed. Once the training run has started, you will see the log files show exactly where the code changes are happening to change from GPU to Intel Gaudi, including the file name and location."
   ]
  },
  {
   "cell_type": "markdown",
   "id": "e68b92d4",
   "metadata": {},
   "source": [
    "```bash\n",
    "PT_HPU_GPU_MIGRATION=1 GPU_MIGRATION_LOG_LEVEL=1 torchrun --nproc_per_node 1 train.py --batch-size=256 --model=resnet50 --device=cuda --data-path=\"/root/datasets/tiny-imagenet-200/\" --workers=8 --epochs=1 --opt=sgd --amp\n",
    "```"
   ]
  },
  {
   "cell_type": "code",
   "execution_count": null,
   "id": "8607d65b",
   "metadata": {},
   "outputs": [],
   "source": [
    "!PT_HPU_GPU_MIGRATION=1 GPU_MIGRATION_LOG_LEVEL=1 torchrun --nproc_per_node 1 train.py --batch-size=256 --model=resnet50 --device=cuda --data-path=\"/root/datasets/tiny-imagenet-200/\" --workers=8 --epochs=1 --opt=sgd --amp"
   ]
  },
  {
   "cell_type": "code",
   "execution_count": null,
   "id": "990520ab-cf50-42b3-aa80-41b7b265dc8c",
   "metadata": {},
   "outputs": [],
   "source": [
    "exit()"
   ]
  },
  {
   "cell_type": "code",
   "execution_count": null,
   "id": "a1639c63-44df-4ced-94b1-bb94298d7ab5",
   "metadata": {},
   "outputs": [],
   "source": []
  }
 ],
 "metadata": {
  "kernelspec": {
   "display_name": "Python 3 (ipykernel)",
   "language": "python",
   "name": "python3"
  },
  "language_info": {
   "codemirror_mode": {
    "name": "ipython",
    "version": 3
   },
   "file_extension": ".py",
   "mimetype": "text/x-python",
   "name": "python",
   "nbconvert_exporter": "python",
   "pygments_lexer": "ipython3",
   "version": "3.10.12"
  }
 },
 "nbformat": 4,
 "nbformat_minor": 5
}
