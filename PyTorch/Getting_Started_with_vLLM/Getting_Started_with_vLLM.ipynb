{
 "cells": [
  {
   "cell_type": "markdown",
   "id": "6f531c4f-d0bd-489c-86a0-353e25d5a999",
   "metadata": {},
   "source": [
    "# Getting Started with vLLM on Intel® Gaudi® 2 AI Accelerators"
   ]
  },
  {
   "cell_type": "markdown",
   "id": "f9e1cb7d-fe57-47b8-9217-d62ad8e0ace8",
   "metadata": {},
   "source": [
    "Copyright (c) 2024 Habana Labs, Ltd. an Intel Company.|\n",
    "\n",
    "Licensed under the Apache License, Version 2.0 (the \"License\");\n",
    "you may not use this file except in compliance with the License. You may obtain a copy of the License at https://www.apache.org/licenses/LICENSE-2.0 Unless required by applicable law or agreed to in writing, software distributed under the License is distributed on an \"AS IS\" BASIS, WITHOUT WARRANTIES OR CONDITIONS OF ANY KIND, either express or implied. See the License for the specific language governing permissions and limitations under the License."
   ]
  },
  {
   "cell_type": "markdown",
   "id": "5502cf06-83ad-4fe3-8ecf-ff73d0683e18",
   "metadata": {},
   "source": [
    "## Introduction"
   ]
  },
  {
   "cell_type": "markdown",
   "id": "92665b17-58d2-496e-a70d-70f435df8ec5",
   "metadata": {},
   "source": [
    "This notebook demonstrates how to use vLLM, a fast and efficient library for Large Language Model (LLM) inference and serving, with Intel® Gaudi® 2 AI Accelerators. vLLM-fork for Gaudi is an adaptation of the original vLLM project, optimized to leverage the power of Gaudi hardware.\n",
    "\n",
    "vLLM offers several advantages for LLM inference:\n",
    "\n",
    "1. High-throughput serving with state-of-the-art performance\n",
    "2. Efficient memory management using PagedAttention\n",
    "3. Continuous batching of incoming requests\n",
    "4. Optimized execution with custom Gaudi implementations for LLM operators\n",
    "5. Support for offline batched inference and nline inference via OpenAI-Compatible Server\n",
    "\n",
    "In this notebook, we'll explore how to set up and use vLLM on Gaudi hardware, demonstrating its capabilities for fast and efficient LLM inference.\n",
    "\n",
    "[Source: [vLLM-fork for Gaudi](https://github.com/HabanaAI/vllm-fork/blob/habana_main/README_GAUDI.md), [vLLM Project](https://github.com/vllm-project/vllm)]"
   ]
  },
  {
   "cell_type": "markdown",
   "id": "bedaa3ac-86df-4996-ab83-b347426ef51a",
   "metadata": {},
   "source": [
    "## Installation and Environment Setup"
   ]
  },
  {
   "cell_type": "markdown",
   "id": "315bbbde-6059-4263-aa02-1d4008cb4e24",
   "metadata": {},
   "source": [
    "For Gaudi requirements and installation please refer to [Requirements and Installation](https://github.com/HabanaAI/vllm-fork/blob/habana_main/README_GAUDI.md#requirements-and-installation)\n",
    "\n",
    "It is highly recommended to use the latest Docker image from Intel Gaudi vault. Refer to the [Run Docker Image](https://github.com/HabanaAI/vllm-fork/blob/habana_main/README_GAUDI.md#run-docker-image) section from [Intel Gaudi documentation](https://docs.habana.ai/en/latest/Installation_Guide/Bare_Metal_Fresh_OS.html#pull-prebuilt-containers) for more details."
   ]
  },
  {
   "cell_type": "markdown",
   "id": "b185ee14-ec2f-42ac-a756-7046e9661efd",
   "metadata": {},
   "source": [
    "The following cells install vLLM for Gaudi required to run the contents of this notebook. For more information on installing vLLM for Gaudi refer to [Build And Install vLLM](https://github.com/HabanaAI/vllm-fork/blob/habana_main/README_GAUDI.md#build-and-install-vllm-fork)"
   ]
  },
  {
   "cell_type": "code",
   "execution_count": null,
   "id": "dfaf25e3-3961-4271-8682-025f863cd7c2",
   "metadata": {},
   "outputs": [],
   "source": [
    "%%bash\n",
    "\n",
    "git clone https://github.com/HabanaAI/vllm-fork.git\n",
    "cd vllm-fork\n",
    "git checkout v0.4.2-Gaudi-1.16.0"
   ]
  },
  {
   "cell_type": "code",
   "execution_count": null,
   "id": "38905bdd-9982-4653-b8ed-ef100ba4d68a",
   "metadata": {},
   "outputs": [],
   "source": [
    "!docker run -d \\\n",
    "  --runtime=habana \\\n",
    "  -v $(pwd):/app \\\n",
    "  -e HABANA_VISIBLE_DEVICES=0 \\\n",
    "  -e OMPI_MCA_btl_vader_single_copy_mechanism=none \\\n",
    "  --cap-add=sys_nice \\\n",
    "  --net=host \\\n",
    "  --ipc=host \\\n",
    "  --name=vllm_installation \\\n",
    "  vault.habana.ai/gaudi-docker/1.16.2/ubuntu22.04/habanalabs/pytorch-installer-2.2.2:latest \\\n",
    "  /bin/bash -c \"cd /app/vllm-fork && pip install -e . && pip install flask && echo $'\\n\\nInstallation completed successfully'\"  # This may take 5-10 minutes"
   ]
  },
  {
   "cell_type": "markdown",
   "id": "5e7e824b-9eda-4f00-9c8e-1901a75d6526",
   "metadata": {},
   "source": [
    "## Getting Started with vLLM"
   ]
  },
  {
   "cell_type": "markdown",
   "id": "f1705acf-def1-4a11-87e5-94bf7a5c8e8e",
   "metadata": {},
   "source": [
    "In this tutorial section below topics will be covered on how to setup and run on Intel Gaudi\n",
    "- Check vLLM installation\n",
    "- Prerequistes \n",
    "- Run vLLM for Offline batched Inference\n",
    "- Deploy vLLM via Flask \n",
    "- Deploy vLLM for Online Inference via OpenAI-Compatible Server"
   ]
  },
  {
   "cell_type": "markdown",
   "id": "ebcd038a-46b2-423a-9342-64a1ce248831",
   "metadata": {},
   "source": [
    "### Check vLLM installation"
   ]
  },
  {
   "cell_type": "markdown",
   "id": "f765dcbf-5e6b-4102-9417-f799872acdcb",
   "metadata": {},
   "source": [
    "Check logs from the docker container to see if vLLM and flask have been installed successfully."
   ]
  },
  {
   "cell_type": "markdown",
   "id": "e00b5362-2be0-4eb4-b322-796d91ab431c",
   "metadata": {},
   "source": [
    "Check the logs to verify the message - `Installation completed successfully`"
   ]
  },
  {
   "cell_type": "markdown",
   "id": "513cb122",
   "metadata": {},
   "source": [
    "> 📝 **Note:** Please wait for a few minutes before running the cell below. The cell may have to be run multiple times to confirm installation as the log updates."
   ]
  },
  {
   "cell_type": "code",
   "execution_count": null,
   "id": "297d51cf-8978-4474-a6be-c2ea79544d5f",
   "metadata": {},
   "outputs": [],
   "source": [
    "!docker logs vllm_installation"
   ]
  },
  {
   "cell_type": "markdown",
   "id": "a4039ba5-3d59-4b45-a0bb-22f601c34164",
   "metadata": {},
   "source": [
    "Save the state of the container with vLLM and Flask installed, let's add a `tag` to the image name called `vllm`"
   ]
  },
  {
   "cell_type": "code",
   "execution_count": null,
   "id": "a568b7f1-2e88-4b06-a8e0-5df3f49e0338",
   "metadata": {},
   "outputs": [],
   "source": [
    "!docker commit vllm_installation vault.habana.ai/gaudi-docker/1.16.2/ubuntu22.04/habanalabs/pytorch-installer-2.2.2:vllm"
   ]
  },
  {
   "cell_type": "markdown",
   "id": "2903ec3e-0a88-4a02-8780-12e10153c106",
   "metadata": {},
   "source": [
    "### Prerequisites"
   ]
  },
  {
   "cell_type": "markdown",
   "id": "f482881f-122d-408f-b30b-c8bad62bcdfd",
   "metadata": {},
   "source": [
    "A Hugging Face token need to be set as an environment variable. This step is required if gated models like llama2 from Hugging Face are being used. The token in the code should be replaced with a valid personal token if gated models are accessed.\n",
    "\n",
    "The tokens can be accessed from this site - [Huggingface Tokens](https://huggingface.co/settings/tokens)"
   ]
  },
  {
   "cell_type": "code",
   "execution_count": null,
   "id": "2a69a155-4881-4529-922f-87b8b1a8dee4",
   "metadata": {},
   "outputs": [],
   "source": [
    "HF_TOKEN = \"YOUR_ACCESS_TOKEN\""
   ]
  },
  {
   "cell_type": "markdown",
   "id": "7f75c850-e297-4b46-bd22-b5ce5f872848",
   "metadata": {},
   "source": [
    "### Run vLLM for Offline batched Inference"
   ]
  },
  {
   "cell_type": "markdown",
   "id": "eefdb27e-e55a-44d1-84cb-9f54017dcd59",
   "metadata": {},
   "source": [
    "Here is an example of vLLM's offline batched inference capabilities using Llama2 7B on Intel Gaudi. The below script utlizes vLLM in offline mode and processes the input prompts in a single batch"
   ]
  },
  {
   "cell_type": "markdown",
   "id": "4cfa9b95-f465-47d6-abf1-703e091494be",
   "metadata": {},
   "source": [
    "```python\n",
    "#!/usr/bin/python\n",
    "from vllm import LLM, SamplingParams\n",
    "\n",
    "prompts = [\n",
    "    \"Hello, my name is\",\n",
    "    \"The president of the United States is\",\n",
    "    \"The capital of France is\",\n",
    "    \"The future of AI is\",\n",
    "]\n",
    "\n",
    "# initialize\n",
    "sampling_params = SamplingParams(temperature=0.8, top_p=0.95, max_tokens=30)\n",
    "llm = LLM(model=\"meta-llama/Llama-2-7b-chat-hf\", enforce_eager=True)\n",
    "\n",
    "# perform the inference\n",
    "outputs = llm.generate(prompts, sampling_params)\n",
    "\n",
    "# print outputs\n",
    "for output in outputs:\n",
    "    prompt = output.prompt\n",
    "    generated_text = output.outputs[0].text\n",
    "    print(f\"Prompt: {prompt!r}, Generated text: {generated_text!r}\")\n"
   ]
  },
  {
   "cell_type": "markdown",
   "id": "b751fe26-307f-4db1-9a6e-db430b5739f6",
   "metadata": {},
   "source": [
    "Execute the script called `vllm_batch_inference.py` shown above, inside the container that has vLLM with Gaudi support installed to perform batched inference.\n",
    "\n",
    "The script can also be run interactively using the flag `-it` instead of `-d` in the following cell. This way, the inference can be done with different inputs and parameters"
   ]
  },
  {
   "cell_type": "code",
   "execution_count": null,
   "id": "14ec8ca2-69cc-451e-bc0f-f61b183c89ed",
   "metadata": {},
   "outputs": [],
   "source": [
    "!docker run -d \\\n",
    "  --runtime=habana \\\n",
    "  -v $(pwd):/app \\\n",
    "  -e HABANA_VISIBLE_DEVICES=0 \\\n",
    "  -e OMPI_MCA_btl_vader_single_copy_mechanism=none \\\n",
    "  -e HF_TOKEN=$HF_TOKEN \\\n",
    "  --cap-add=sys_nice \\\n",
    "  --net=host \\\n",
    "  --ipc=host \\\n",
    "  --name=vllm_batch_inference \\\n",
    "  vault.habana.ai/gaudi-docker/1.16.2/ubuntu22.04/habanalabs/pytorch-installer-2.2.2:vllm \\\n",
    "  python /app/scripts/vllm_batch_inference.py"
   ]
  },
  {
   "cell_type": "markdown",
   "id": "1daa38bd-2635-464a-9ac4-6b70ca02b37f",
   "metadata": {},
   "source": [
    "> **Note:** This may take 5-10 minutes if the model weights have not been downloaded"
   ]
  },
  {
   "cell_type": "markdown",
   "id": "ec9a72eb-85c6-4096-9527-3142ff96f420",
   "metadata": {},
   "source": [
    "Output is printed for each of the input prompts in the script. Next, stop the docker container."
   ]
  },
  {
   "cell_type": "code",
   "execution_count": null,
   "id": "0ace6331-a681-4047-a411-648a3d8e0361",
   "metadata": {},
   "outputs": [],
   "source": [
    "!docker logs vllm_batch_inference"
   ]
  },
  {
   "cell_type": "code",
   "execution_count": null,
   "id": "3500e8c4-18c5-42b1-92fc-93e8a7348022",
   "metadata": {},
   "outputs": [],
   "source": [
    "!docker stop vllm_batch_inference"
   ]
  },
  {
   "cell_type": "markdown",
   "id": "59e2a9f5-4083-4554-90f0-2fb4244e8e25",
   "metadata": {},
   "source": [
    "### Deploy vLLM via Flask"
   ]
  },
  {
   "cell_type": "markdown",
   "id": "048f1b3e-61d8-4ef0-9d51-513f2b8ed988",
   "metadata": {},
   "source": [
    "While the example shown above is great for offline tests, a production setup calls for a more robust solution. Here is an example on how to use a web based framework like Flask, vLLM and Gaudi to serve the model via a REST API"
   ]
  },
  {
   "cell_type": "markdown",
   "id": "1e766015-7812-4f97-a282-c967541e358a",
   "metadata": {},
   "source": [
    "```python\n",
    "from flask import Flask, request, jsonify\n",
    "from vllm import LLM, SamplingParams\n",
    "\n",
    "app = Flask(__name__)\n",
    "sampling_params = SamplingParams(temperature=0.8, top_p=0.95)\n",
    "llm = LLM(model=\"meta-llama/Llama-2-7b-chat-hf\", enforce_eager=True)\n",
    "\n",
    "@app.route('/generate', methods=['POST'])\n",
    "def generate():\n",
    "    data = request.get_json()\n",
    "    prompts = data.get('prompts', [])\n",
    "\n",
    "    outputs = llm.generate(prompts, sampling_params)\n",
    "\n",
    "    # Prepare the outputs.\n",
    "    results = []\n",
    "\n",
    "    for output in outputs:\n",
    "        prompt = output.prompt\n",
    "        generated_text = output.outputs[0].text\n",
    "        results.append({\n",
    "            'prompt': prompt,\n",
    "            'generated_text': generated_text\n",
    "        })\n",
    "\n",
    "    return jsonify(results)\n",
    "\n",
    "if __name__ == '__main__':\n",
    "    app.run(host='0.0.0.0', port=5000)\n",
    "```"
   ]
  },
  {
   "cell_type": "markdown",
   "id": "aca74c94-17ae-4a4b-9562-df94ae5589a5",
   "metadata": {},
   "source": [
    "Above is a script called `vllm_flaskapp.py` which creates an endpoint called `/generate` through which the text generation requests are served.\n",
    "\n",
    "> **Note:** Please change the port in the script in the event that it is occupied\n",
    "\n",
    "Run the script in the container to start the flask server"
   ]
  },
  {
   "cell_type": "code",
   "execution_count": null,
   "id": "f964a91e-c408-45c1-9d84-ffc47721fb64",
   "metadata": {},
   "outputs": [],
   "source": [
    "!docker run -d \\\n",
    "  --runtime=habana \\\n",
    "  -v $(pwd):/app \\\n",
    "  -e HABANA_VISIBLE_DEVICES=0 \\\n",
    "  -e OMPI_MCA_btl_vader_single_copy_mechanism=none \\\n",
    "  -e HF_TOKEN=$HF_TOKEN \\\n",
    "  --cap-add=sys_nice \\\n",
    "  --net=host \\\n",
    "  --ipc=host \\\n",
    "  --name=vllm_flask_server \\\n",
    "  vault.habana.ai/gaudi-docker/1.16.2/ubuntu22.04/habanalabs/pytorch-installer-2.2.2:vllm \\\n",
    "  python /app/scripts/vllm_flaskapp.py  # This step takes 5-10 minutes"
   ]
  },
  {
   "cell_type": "markdown",
   "id": "3e745fa9-d7d8-4418-b882-fb80d46a6547",
   "metadata": {},
   "source": [
    "The server takes a while to get set up. Please check `docker` logs for `vllm_flask_server` using the command below to check for status. Once the server is set up successfully, the following output can be seen in the logs:\n",
    "\n",
    "```\n",
    "* Running on all addresses (0.0.0.0)\n",
    " * Running on http://127.0.0.1:5000\n",
    " * Running on http://198.175.88.246:5000\n",
    "Press CTRL+C to quit\n",
    "```\n",
    "Please make note of the port that the application is serving at"
   ]
  },
  {
   "cell_type": "code",
   "execution_count": null,
   "id": "cdd484cb-e003-413a-b1ef-98a020622217",
   "metadata": {},
   "outputs": [],
   "source": [
    "# check logs to see if server has started successfully\n",
    "\n",
    "!docker logs vllm_flask_server"
   ]
  },
  {
   "cell_type": "markdown",
   "id": "931e7369-9a94-4844-aa54-ce19df21e6be",
   "metadata": {},
   "source": [
    "A POST request is sent to the Flask server, and the response is printed. Please change the port according to the logs above."
   ]
  },
  {
   "cell_type": "code",
   "execution_count": null,
   "id": "24150dd9-126d-47ea-b4e4-e9dac6d7a57e",
   "metadata": {},
   "outputs": [],
   "source": [
    "# Example of sending a POST request to the Flask server\n",
    "import requests\n",
    "import json\n",
    "\n",
    "response = requests.post('http://localhost:5000/generate', json={'prompts': ['Tell me in one sentence what Berlin is famous for']})\n",
    "print(response.json())"
   ]
  },
  {
   "cell_type": "markdown",
   "id": "68b1a802-5577-4434-a4e1-a27c639d6050",
   "metadata": {},
   "source": [
    "Stop the server once the requests have been made"
   ]
  },
  {
   "cell_type": "code",
   "execution_count": null,
   "id": "c7cd1c7c-7a66-4910-b403-b6641395a94d",
   "metadata": {
    "scrolled": true
   },
   "outputs": [],
   "source": [
    "!docker stop vllm_flask_server"
   ]
  },
  {
   "cell_type": "markdown",
   "id": "0942364f-a53a-460d-999f-71b0d801a928",
   "metadata": {},
   "source": [
    "### Deploy vLLM for Online Inference via OpenAI-Compatible Server"
   ]
  },
  {
   "cell_type": "markdown",
   "id": "ccfc3c0a-0730-4d7d-b8bc-b17d00b648dc",
   "metadata": {},
   "source": [
    "The flask REST API above has it's limitations in terms of handling multiple users, lacks built-in authentication, and requires custom documentation. That's where vLLM's serving capabilities can be utililized for production grade deployment at scale right out of the box.\n",
    "In this section, we will use vllm's built-in capapbilties to deploy a server and use OpenAI client to make requests"
   ]
  },
  {
   "cell_type": "markdown",
   "id": "e8cd2f0f-d26c-4065-93c6-1da670e92b98",
   "metadata": {},
   "source": [
    "The command used to run the vLLM api server is `python -m vllm.entrypoints.openai.api_server --enforce-eager --model=meta-llama/Llama-2-7b-chat-hf` which is run inside the container with vLLM installed.\n",
    "You can specify the address with `--host` and `--port` arguments"
   ]
  },
  {
   "cell_type": "code",
   "execution_count": null,
   "id": "6e15f6ba-176a-4182-9c83-81fefdf1c82f",
   "metadata": {},
   "outputs": [],
   "source": [
    "!docker run -d \\\n",
    "  --runtime=habana \\\n",
    "  -v $(pwd):/app \\\n",
    "  -e HABANA_VISIBLE_DEVICES=0 \\\n",
    "  -e OMPI_MCA_btl_vader_single_copy_mechanism=none \\\n",
    "  -e HF_TOKEN=$HF_TOKEN \\\n",
    "  --cap-add=sys_nice \\\n",
    "  --net=host \\\n",
    "  --ipc=host \\\n",
    "  --name=vllm_api_server \\\n",
    "  vault.habana.ai/gaudi-docker/1.16.2/ubuntu22.04/habanalabs/pytorch-installer-2.2.2:vllm \\\n",
    "  python -m vllm.entrypoints.openai.api_server --enforce-eager --model=meta-llama/Llama-2-7b-chat-hf --port 8000 # Takes 5-10 minutes"
   ]
  },
  {
   "cell_type": "markdown",
   "id": "95f69c59-2da1-478f-9ff4-fc248732f11f",
   "metadata": {},
   "source": [
    "The server takes a while to get set up. Please check `docker` logs for `vllm_api_server` using the command below to check for status. Once the server is set up successfully, the following output can be seen in the logs:\n",
    "\n",
    "```\n",
    "INFO:     Started server process [1]\n",
    "INFO:     Waiting for application startup.\n",
    "INFO:     Application startup complete.\n",
    "INFO:     Uvicorn running on http://0.0.0.0:8000 (Press CTRL+C to quit)\n",
    "INFO 07-22 22:19:07 metrics.py:334] Avg prompt throughput: 0.0 tokens/s, Avg generation throughput: 0.0 tokens/s, Running: 0 reqs, Swapped: 0 reqs, Pending: 0 reqs, GPU KV cache usage: 0.0%, CPU KV cache usage: 0.0%\n",
    "```\n"
   ]
  },
  {
   "cell_type": "code",
   "execution_count": null,
   "id": "7d6fb0b1-57f9-4e63-9147-e6b11d3450e1",
   "metadata": {
    "scrolled": true
   },
   "outputs": [],
   "source": [
    "# check logs to see if server has started successfully\n",
    "\n",
    "!docker logs vllm_api_server"
   ]
  },
  {
   "cell_type": "markdown",
   "id": "0779b785-e1af-4584-aa19-5a2ad7607ee7",
   "metadata": {},
   "source": [
    "Let's use the `requests` library to interact with our vLLM API server. This approach allows us to send HTTP requests directly from our Python script:"
   ]
  },
  {
   "cell_type": "code",
   "execution_count": null,
   "id": "68f30164-d63c-4b49-be68-5d76566d84af",
   "metadata": {
    "scrolled": true
   },
   "outputs": [],
   "source": [
    "import requests\n",
    "import json\n",
    "\n",
    "# send request to the vLLM server using requests\n",
    "VLLM_HOST = \"http://0.0.0.0:8000\"\n",
    "url = f\"{VLLM_HOST}/v1/completions\"\n",
    "\n",
    "headers = {\"Content-Type\": \"application/json\"}\n",
    "data = {\n",
    "    \"model\": \"meta-llama/Llama-2-7b-chat-hf\",\n",
    "    \"prompt\": \"Tell me in one sentence what Tokyo is famous for\",\n",
    "    \"max_tokens\": 50,\n",
    "    \"temperature\": 0\n",
    "}\n",
    "\n",
    "response = requests.post(url, headers=headers, data=json.dumps(data))\n",
    "\n",
    "print(response.json()[\"choices\"][0][\"text\"])"
   ]
  },
  {
   "cell_type": "markdown",
   "id": "bb412359-9819-43c1-bc7b-7d03afb4bc7a",
   "metadata": {},
   "source": [
    "### OpenAI API Client"
   ]
  },
  {
   "cell_type": "markdown",
   "id": "3adefcbf",
   "metadata": {},
   "source": [
    "Install openai client to make requests to the vLLM server"
   ]
  },
  {
   "cell_type": "code",
   "execution_count": null,
   "id": "521774fc",
   "metadata": {},
   "outputs": [],
   "source": [
    "!pip install openai"
   ]
  },
  {
   "cell_type": "markdown",
   "id": "be4ee69f-0d33-4d9d-b8ad-eb3b2adddbfa",
   "metadata": {},
   "source": [
    "vLLM can be deployed as a server that implements the OpenAI API protocol. This allows vLLM to be used as a drop-in replacement for applications using OpenAI API. By default, it starts the server at `http://0.0.0.0:8000`. You can specify the address with --`host` and `--port` arguments."
   ]
  },
  {
   "cell_type": "markdown",
   "id": "36339e83-ddf8-4242-8a69-d34656a9371f",
   "metadata": {},
   "source": [
    "OpenAI client to stream requests can be used via `Completions` and `Chat` API.\n",
    "\n",
    "The Completions API from OpenAI is designed for a wide range of text generation tasks, offering significant control over the output through various parameters, making it suitable for applications like content creation and code completion\n",
    "\n",
    "In contrast, the Chat API is specifically optimized for conversational AI, facilitating smoother and more contextually aware dialogues. This API is better suited for chatbots and interactive applications where maintaining context and managing follow-up queries is crucial, ensuring more human-like interactions."
   ]
  },
  {
   "cell_type": "markdown",
   "id": "75efee06-b548-4af0-9ee9-9a70c5d253ee",
   "metadata": {},
   "source": [
    "Completions API:"
   ]
  },
  {
   "cell_type": "code",
   "execution_count": null,
   "id": "55a432b2-94cf-4481-a40c-6c74c80286ec",
   "metadata": {
    "scrolled": true
   },
   "outputs": [],
   "source": [
    "from openai import OpenAI\n",
    "\n",
    "# we haven't configured authentication, we pass a dummy value\n",
    "openai_api_key = \"EMPTY\"\n",
    "# modify this value to match your host, remember to add /v1 at the end\n",
    "openai_api_base = \"http://0.0.0.0:8000/v1\"\n",
    "\n",
    "client = OpenAI(\n",
    "    api_key=openai_api_key,\n",
    "    base_url=openai_api_base,\n",
    ")\n",
    "completion = client.completions.create(model=\"meta-llama/Llama-2-7b-chat-hf\",\n",
    "                                      prompt=\"Tell me in one sentence what Paris is famous for\",\n",
    "                                      max_tokens=50)\n",
    "print(completion.choices[0].text)"
   ]
  },
  {
   "cell_type": "markdown",
   "id": "888666aa-5294-4376-9893-a8ff5d18ea1f",
   "metadata": {},
   "source": [
    "Chat API:"
   ]
  },
  {
   "cell_type": "markdown",
   "id": "a3989901-bfdf-432d-8200-5be6c4d7b662",
   "metadata": {},
   "source": [
    "Please use an instruction-tuned model for the chat API such as `meta-llama/Llama-2-7b-chat-hf`"
   ]
  },
  {
   "cell_type": "code",
   "execution_count": null,
   "id": "3f28502e-9700-48f8-9bb7-a827e834a8fc",
   "metadata": {},
   "outputs": [],
   "source": [
    "openai_api_key = \"EMPTY\"\n",
    "openai_api_base = \"http://0.0.0.0:8000/v1\"\n",
    "\n",
    "client = OpenAI(\n",
    "    api_key=openai_api_key,\n",
    "    base_url=openai_api_base,\n",
    ")\n",
    "\n",
    "chat_response = client.chat.completions.create(\n",
    "    model=\"meta-llama/Llama-2-7b-chat-hf\",\n",
    "    messages=[\n",
    "        {\"role\": \"system\", \"content\": \"You're a helful assistant.\"},\n",
    "        {\"role\": \"user\", \"content\": \"Tell me in one sentence what New York City is famous for\"},\n",
    "    ]\n",
    ")\n",
    "\n",
    "print(chat_response.choices[0].message.content)"
   ]
  },
  {
   "cell_type": "markdown",
   "id": "f1867fc2-be71-4b2b-ac8c-b43ee50a75b4",
   "metadata": {},
   "source": [
    "### Chat Application using Gradio"
   ]
  },
  {
   "cell_type": "markdown",
   "id": "deb40c7a-503a-4283-be17-eb9b810b9623",
   "metadata": {},
   "source": [
    "Optionally, connect to the vLLM server through a Gradio chatbot to see it in action. The same endpoint that was set up in the previous sections is used."
   ]
  },
  {
   "cell_type": "code",
   "execution_count": null,
   "id": "460b764b",
   "metadata": {},
   "outputs": [],
   "source": [
    "!pip install gradio"
   ]
  },
  {
   "cell_type": "code",
   "execution_count": null,
   "id": "1f643055-7085-4587-b9d6-91bf688b5551",
   "metadata": {},
   "outputs": [],
   "source": [
    "import gradio as gr\n",
    "\n",
    "def predict(message, history):\n",
    "    history_openai_format = []\n",
    "    for human, assistant in history:\n",
    "        history_openai_format.append({\"role\": \"user\", \"content\": human })\n",
    "        history_openai_format.append({\"role\": \"assistant\", \"content\":assistant})\n",
    "    history_openai_format.append({\"role\": \"user\", \"content\": message})\n",
    "  \n",
    "    response = client.chat.completions.create(model='meta-llama/Llama-2-7b-chat-hf',\n",
    "    messages= history_openai_format,\n",
    "    temperature=1.0,\n",
    "    stream=True)\n",
    "\n",
    "    partial_message = \"\"\n",
    "    for chunk in response:\n",
    "        if chunk.choices[0].delta.content is not None:\n",
    "              partial_message = partial_message + chunk.choices[0].delta.content\n",
    "              yield partial_message\n",
    "\n",
    "gr.ChatInterface(predict).launch(share=True)"
   ]
  },
  {
   "cell_type": "markdown",
   "id": "5796ba1d-e770-485a-b729-e503ba7aa542",
   "metadata": {},
   "source": [
    "Stop the server once the requests have been made"
   ]
  },
  {
   "cell_type": "code",
   "execution_count": null,
   "id": "c1bcb361-2796-459e-b47e-deaff9b3445d",
   "metadata": {
    "scrolled": true
   },
   "outputs": [],
   "source": [
    "!docker stop vllm_api_server"
   ]
  },
  {
   "cell_type": "markdown",
   "id": "e260eeec-6e32-409a-8f87-04dc412e26b9",
   "metadata": {},
   "source": [
    "## Troubleshooting"
   ]
  },
  {
   "cell_type": "markdown",
   "id": "05e6c13f-c8a6-4bac-acb9-c2d7b84339b8",
   "metadata": {},
   "source": [
    "1. If the following error message is encountered:\n",
    "   ```\n",
    "   RuntimeError: synStatus=8 [Device not found] Device acquire failed.\n",
    "   ```\n",
    "   Please stop the respective docker container to free up Gaudi memory\n",
    "\n",
    "2. `docker ps` can be a great command to see which containers have been up and for how long\n",
    "\n",
    "3. If a container name is already in use by a container, capture the container id in the error message and run `docker rm CONTAINER_ID`"
   ]
  }
 ],
 "metadata": {
  "kernelspec": {
   "display_name": "Python 3 (ipykernel)",
   "language": "python",
   "name": "python3"
  },
  "language_info": {
   "codemirror_mode": {
    "name": "ipython",
    "version": 3
   },
   "file_extension": ".py",
   "mimetype": "text/x-python",
   "name": "python",
   "nbconvert_exporter": "python",
   "pygments_lexer": "ipython3",
   "version": "3.10.14"
  }
 },
 "nbformat": 4,
 "nbformat_minor": 5
}
