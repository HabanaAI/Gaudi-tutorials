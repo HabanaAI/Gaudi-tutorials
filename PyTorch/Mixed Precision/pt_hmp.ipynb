{
 "cells": [
  {
   "cell_type": "markdown",
   "id": "3b1cdf49",
   "metadata": {},
   "source": [
    "# PyTorch Mixed Precision"
   ]
  },
  {
   "cell_type": "markdown",
   "id": "9c12f4da",
   "metadata": {},
   "source": [
    "Copyright (c) 2022 Habana Labs, Ltd. an Intel Company.<br>\n",
    "All rights reserved.\n",
    "\n",
    "# Licensed under the Apache License, Version 2.0 (the “License”);\n",
    "you may not use this file except in compliance with the License. You may obtain a copy of the License at https://www.apache.org/licenses/LICENSE-2.0 Unless required by applicable law or agreed to in writing, software distributed under the License is distributed on an “AS IS” BASIS, WITHOUT WARRANTIES OR CONDITIONS OF ANY KIND, either express or implied. See the License for the specific language governing permissions and limitations under the License."
   ]
  },
  {
   "cell_type": "markdown",
   "id": "591a55bf",
   "metadata": {},
   "source": [
    "## Overview\n",
    "Mixed precision is the use of both 16-bit and 32-bit floating-point types in a model during training to make it faster and use less memory. By keeping certain parts of the model in the 32-bit types for numerical stability, the model will have a lower step time and train equally as well in terms of the evaluation metrics such as accuracy.\n",
    "\n",
    "Models that use float32 will take 32 bits of memory. However, there are two lower-precision dtypes, float16 and bfloat16. Each of them takes 16 bits of memory instead. Modern accelerators can run operations faster in the 16-bit dtypes, as they have specialized hardware to run 16-bit computations and 16-bit dtypes can be read from memory faster.\n",
    "\n",
    "Habana HPUs can run operations in bfloat16 faster than float32. Therefore, these lower-precision dtypes should be used whenever possible on HPUs. However, variables and a few computations should still be in float32 for numerical stability so that the model is trained to the same quality. The PyTorch mixed precision allows you to use a mix of bfloat16 and float32 during model training, to get the performance benefits from bfloat16 and the numerical stability benefits from float32.\n",
    "\n",
    "Note: In this tutorial, the term \"numerical stability\" refers to how a model's quality is affected by the use of a lower-precision dtype instead of a higher precision dtype. An operation is \"numerically unstable\" in bfloat16 if running it in bfloat16 dtypes causes the model to have worse evaluation accuracy or other metrics compared to running the operation in float32."
   ]
  },
  {
   "cell_type": "markdown",
   "id": "52b99b46",
   "metadata": {},
   "source": [
    "## Supported hardware\n",
    "Habana Gaudi HPUs supports a mix of bfloat16 and float32.\n",
    "\n",
    "Even on CPUs, where no speedup is expected, mixed precision APIs can still be used for unit testing, debugging, or just to try out the API. However, on CPUs, mixed precision will run significantly slower."
   ]
  },
  {
   "cell_type": "markdown",
   "id": "20c379d7",
   "metadata": {},
   "source": [
    "## Setup\n",
    "PyTorch mixed precision support can be easily added to the model script by adding the following lines anywhere in the script before the start of the training loop:"
   ]
  },
  {
   "cell_type": "code",
   "execution_count": 2,
   "id": "2fb26b60",
   "metadata": {},
   "outputs": [],
   "source": [
    "import torch\n",
    "from habana_frameworks.torch.hpex import hmp"
   ]
  },
  {
   "cell_type": "markdown",
   "id": "52264b70",
   "metadata": {},
   "source": [
    "Any segment of script (e.g. optimizer) in which you want to avoid using mixed precision should be kept under the following Python context:"
   ]
  },
  {
   "cell_type": "code",
   "execution_count": null,
   "id": "93b09044",
   "metadata": {},
   "outputs": [],
   "source": [
    "from habana_frameworks.torch.hpex import hmp\n",
    "with hmp.disable_casts():\n",
    "    code line:1\n",
    "    code line:2"
   ]
  },
  {
   "cell_type": "markdown",
   "id": "af45d113",
   "metadata": {},
   "source": [
    "We also need to add the below code to enable a Gaudi device"
   ]
  },
  {
   "cell_type": "code",
   "execution_count": 3,
   "id": "3d90d933",
   "metadata": {},
   "outputs": [
    {
     "name": "stdout",
     "output_type": "stream",
     "text": [
      "Loading Habana modules from /usr/local/lib/python3.8/dist-packages/habana_frameworks/torch/lib\n"
     ]
    }
   ],
   "source": [
    "from habana_frameworks.torch.utils.library_loader import load_habana_module\n",
    "load_habana_module()"
   ]
  },
  {
   "cell_type": "markdown",
   "id": "b2753193",
   "metadata": {},
   "source": [
    "## Design Rules\n",
    "\n",
    "Two different lists are maintained:<br>\n",
    "- OPs that always run in BF16 only\n",
    "- OPs that always run in FP32 only.\n",
    "\n",
    "Python decorators are used to add required functionality (bf16 or fp32 casts on OP input(s)) to torch functions (refer to code snippet below).\n",
    "\n",
    "Any OPs not in the above two lists will run with the precision type of its 1st input (except for exceptions listed below).\n",
    "\n",
    "For OPs with multiple tensor inputs (maintained in a separate list, e.g. add, sub, cat, stack etc.), cast all inputs to the widest precision type among all input precision types. If any of these OPs are in BF16 or FP32 list, that list has higher precedence.\n",
    "\n",
    "For in-place OPs (output & 1st input share storage), cast all inputs to the precision type of 1st input."
   ]
  },
  {
   "cell_type": "code",
   "execution_count": 4,
   "id": "f894ef82",
   "metadata": {},
   "outputs": [],
   "source": [
    "from functools import wraps\n",
    "def op_wrap(op, cast_fn):\n",
    "    \"\"\"Adds wrapper function to OPs. All tensor inputs\n",
    "    for the OP are casted to type determined by cast_fn\n",
    "    provided.\n",
    "\n",
    "    Args:\n",
    "    op (torch.nn.functional/torch/torch.Tensor): Input OP\n",
    "    cast_fn (to_bf16/to_fp32): Fn to cast input tensors\n",
    "\n",
    "    Returns:\n",
    "    Wrapper function that shall be inserted back to\n",
    "    corresponding module for this OP.\n",
    "    \"\"\"\n",
    "    @wraps(op)\n",
    "    def wrapper(*args, **kwds):\n",
    "        args_cast = get_new_args(cast_fn, args, kwds)\n",
    "        return op(*args_cast, **kwds)\n",
    "    return wrapper"
   ]
  },
  {
   "cell_type": "markdown",
   "id": "d3371304",
   "metadata": {},
   "source": [
    "## Configuration Options\n",
    "\n",
    "Habana Mixed Precision (HMP) provides two modes (opt_level = O1/O2) of mixed precision training to choose from. These modes can be chosen by passing opt_level= as an argument to hmp.convert().\n",
    "\n",
    "O1 is the default and recommended mode of operation when using HMP. O2 can be used for debugging convergence issues as well as for initial iterations of converting a new model to run with mixed precision."
   ]
  },
  {
   "cell_type": "markdown",
   "id": "55d16868",
   "metadata": {},
   "source": [
    "### Opt_level = O1\n",
    "\n",
    "In this mode, OPs that always run in BF16 and OPs that always run in FP32 are selected from a BF16 list and FP32 list respectively. BF16 list contains OPs that are numerically safe to run in lower precision on HPU, whereas FP32 list contains OPs that should be run in higher precision (a conservative choice that works across models).\n",
    "\n",
    "Default BF16 list = [addmm, bmm, conv1d, conv2d, conv3d, dot, mm, mv]\n",
    "\n",
    "Default FP32 list = [batch_norm, cross_entropy, log_softmax, softmax, nll_loss, topk]\n",
    "\n",
    "HMP provides the option of overriding these internal lists, allowing you to provide your own BF16 and FP32 lists (pass bf16_file_path=<.txt> and fp32_file_path=<.txt> as arguments to hmp.convert()). This is particularly useful when customizing mixed precision training for a particular model. For example:\n",
    "\n",
    "Custom BF16 list for ResNet50 = [ addmm, avg_pool2d, bmm, conv2d, dot, max_pool2d, mm, mv, relu, t, linear]\n",
    "\n",
    "Custom FP32 list for ResNet50 = [cross_entropy, log_softmax, softmax, nll_loss, topk]"
   ]
  },
  {
   "cell_type": "markdown",
   "id": "3e1b2869",
   "metadata": {},
   "source": [
    "## Usage Examples"
   ]
  },
  {
   "cell_type": "code",
   "execution_count": 1,
   "id": "d29aad7b",
   "metadata": {},
   "outputs": [
    {
     "name": "stdout",
     "output_type": "stream",
     "text": [
      "Loading Habana modules from /usr/local/lib/python3.8/dist-packages/habana_frameworks/torch/lib\n",
      "hmp:verbose_mode  False\n",
      "hmp:opt_level O1\n"
     ]
    }
   ],
   "source": [
    "import torch\n",
    "from habana_frameworks.torch.hpex import hmp\n",
    "from habana_frameworks.torch.utils.library_loader import load_habana_module\n",
    "load_habana_module()\n",
    "#\n",
    "N, D_in, D_out = 64, 1024, 512\n",
    "x = torch.randn(N, D_in, device=torch.device(\"hpu\"))\n",
    "y = torch.randn(N, D_out, device=torch.device(\"hpu\"))\n",
    "#\n",
    "# enable mixed precision training with optimization level O1, default BF16 list, default FP32 list and logging disabled\n",
    "# use opt_level to select desired mode of operation\n",
    "# use bf16_file_path to provide absolute path to a file with custom BF16 list\n",
    "# use fp32_file_path to provide absolute path to a file with custom FP32 list\n",
    "# use isVerbose to disable/enable debug logs\n",
    "hmp.convert(opt_level=\"O1\", bf16_file_path=\"\", fp32_file_path=\"\", isVerbose=False)\n",
    "model = torch.nn.Linear(D_in, D_out).to(torch.device(\"hpu\"))\n",
    "optimizer = torch.optim.SGD(model.parameters(), lr=1e-3)\n",
    "#\n",
    "for t in range(500):\n",
    "   y_pred = model(x)\n",
    "   loss = torch.nn.functional.mse_loss(y_pred, y)\n",
    "   optimizer.zero_grad()\n",
    "   loss.backward()\n",
    "   #\n",
    "   # disable mixed precision for optimizer block\n",
    "   with hmp.disable_casts():\n",
    "      optimizer.step()"
   ]
  },
  {
   "cell_type": "markdown",
   "id": "2a8c4acd",
   "metadata": {},
   "source": [
    "## HPU performance tips\n",
    "You should consider doubling your batch size when using HPUs because bfloat16 tensors use half the memory. Doubling batch size may increase training throughput."
   ]
  },
  {
   "cell_type": "markdown",
   "id": "d8e97daf",
   "metadata": {},
   "source": [
    "## Summary\n",
    "- You should use mixed precision if you use Habana HPUs, as it will improve training performance.\n",
    "- You can use mixed precision with the following lines:\n",
    ">`import torch\n",
    "   from habana_frameworks.torch.hpex import hmp\n",
    "   hmp.convert()`\n",
    "- You can customize mixed precision training for a particular model by defining two lists for OPs that always run in BF16 and OPs that always run in FP32.\n",
    "- Add the following code before any segment of code where you want to avoid using mixed precision:\n",
    "> `with hmp.disable_casts()`\n",
    "- Double the training batch size if it does not reduce evaluation accuracy"
   ]
  },
  {
   "cell_type": "code",
   "execution_count": null,
   "id": "ec3d298d",
   "metadata": {},
   "outputs": [],
   "source": []
  }
 ],
 "metadata": {
  "kernelspec": {
   "display_name": "Python 3 (ipykernel)",
   "language": "python",
   "name": "python3"
  },
  "language_info": {
   "codemirror_mode": {
    "name": "ipython",
    "version": 3
   },
   "file_extension": ".py",
   "mimetype": "text/x-python",
   "name": "python",
   "nbconvert_exporter": "python",
   "pygments_lexer": "ipython3",
   "version": "3.8.12"
  }
 },
 "nbformat": 4,
 "nbformat_minor": 5
}
