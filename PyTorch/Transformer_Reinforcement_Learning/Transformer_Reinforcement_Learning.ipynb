{
 "cells": [
  {
   "cell_type": "markdown",
   "id": "cc00676b-8d19-4e0d-b61d-68ccc14c294d",
   "metadata": {},
   "source": [
    "Copyright (c) 2024 Habana Labs, Ltd. an Intel Company.\n",
    "SPDX-License-Identifier: Apache-2.0\n"
   ]
  },
  {
   "cell_type": "markdown",
   "id": "6b714683-1b37-4048-bf91-2b5af1c18d40",
   "metadata": {},
   "source": [
    "## Intel® Gaudi® Accelerator Using Hugging Face Transformer Reinforcement Learning"
   ]
  },
  {
   "cell_type": "markdown",
   "id": "1a6db2bc-12ef-47a0-83f8-cfba2a8af03c",
   "metadata": {},
   "source": [
    "\n",
    "This document provides instructions on setting up the Intel Gaudi 2 AI accelerator Instance on the Intel® Developer Cloud or any on-premise Intel Gaudi Node. You will be running models from the Intel Gaudi software Model References and the Hugging Face Optimum Habana library.\n",
    "\n",
    "This assumes that you have setup the latest Intel Gaudi PyTorch Docker image.\n",
    "\n",
    "The first step is to install the Optimum Habana repository from GitHub and run the demo of Transformer Reinforcement Learning."
   ]
  },
  {
   "cell_type": "markdown",
   "id": "37216139-611e-4b07-a90f-cb351f18b185",
   "metadata": {},
   "source": [
    "### Fine-tuning with Hugging Face Optimum Habana Library\n",
    "The Optimum Habana library is the interface between the Hugging Face Transformers and Diffusers libraries and the Gaudi 2 card. It provides a set of tools enabling easy model loading, training and inference on single and multi-card settings for different downstream tasks. The following example use the DPO and PPO pipeline to fine-tune a Llama 2 7B model.  For more details, see the [TRL](https://github.com/huggingface/optimum-habana/tree/main/examples/trl) examples at the Optimum-Habana GitHub page. \n",
    "\n",
    "Follow the below steps to install the stable release from the Optimum Habana examples and library:"
   ]
  },
  {
   "cell_type": "markdown",
   "id": "7420be01-fb88-466a-9fe7-87006340905f",
   "metadata": {},
   "source": [
    "1. Clone the Optimum-Habana project and check out the lastest stable release.  This repository gives access to the examples that are optimized for Intel Gaudi:"
   ]
  },
  {
   "cell_type": "code",
   "execution_count": null,
   "id": "07346c1a-1fea-4b62-8a79-760ca7a64073",
   "metadata": {},
   "outputs": [],
   "source": [
    "%cd ~\n",
    "!git clone -b v1.15.0 https://github.com/huggingface/optimum-habana.git"
   ]
  },
  {
   "cell_type": "markdown",
   "id": "f09ded02-2aa1-4725-b1fc-cf917e05d9aa",
   "metadata": {},
   "source": [
    "2. Install Optimum-Habana library. This will install the latest stable library:"
   ]
  },
  {
   "cell_type": "code",
   "execution_count": null,
   "id": "983e35cc-0ea1-4205-ae70-323252169c20",
   "metadata": {},
   "outputs": [],
   "source": [
    "!pip install optimum-habana==1.15.0"
   ]
  },
  {
   "cell_type": "markdown",
   "id": "db627879-a273-4914-8efd-68c9a81ebbb9",
   "metadata": {},
   "source": [
    "3. In order to use the DeepSpeed library on Intel Gaudi 2, install the Intel Gaudi DeepSpeed fork:"
   ]
  },
  {
   "cell_type": "code",
   "execution_count": null,
   "id": "d59e99a7-4db0-4519-b406-ccedee40796d",
   "metadata": {},
   "outputs": [],
   "source": [
    "!pip install git+https://github.com/HabanaAI/DeepSpeed.git@1.20.0"
   ]
  },
  {
   "cell_type": "markdown",
   "id": "f25f0546-e74c-4363-b443-a0f59504d973",
   "metadata": {},
   "source": [
    "The following example is based on the Optimum-Habana TRL task example. Change to the trl directory and install the additional SW requirements for this specific example:"
   ]
  },
  {
   "cell_type": "code",
   "execution_count": null,
   "id": "24537f40-8daa-4ac9-ad19-bf1cfaaf29f1",
   "metadata": {},
   "outputs": [],
   "source": [
    "%cd ~/optimum-habana/examples/trl/\n",
    "!pip install -U -r requirements.txt"
   ]
  },
  {
   "cell_type": "code",
   "execution_count": null,
   "id": "af2bc05d-ae12-4e35-8e95-124b754d6d79",
   "metadata": {},
   "outputs": [],
   "source": [
    "!huggingface-cli login --token <your_token_here>"
   ]
  },
  {
   "cell_type": "markdown",
   "id": "3f04ce10",
   "metadata": {},
   "source": [
    "### DPO Pipeline\n",
    "\n",
    "#### Training\n",
    "\n",
    "The following example is for the creation of StackLlaMa 2: a Stack exchange llama-v2-7b model. There are two main steps to the DPO training process:\n",
    "\n",
    "1. Supervised fine-tuning of the base llama-v2-7b model to create llama-v2-7b-se:"
   ]
  },
  {
   "cell_type": "code",
   "execution_count": null,
   "id": "01698aa9",
   "metadata": {},
   "outputs": [],
   "source": [
    "!python sft.py \\\n",
    "    --model_name_or_path meta-llama/Llama-2-7b-hf \\\n",
    "    --dataset_name \"lvwerra/stack-exchange-paired\" \\\n",
    "    --output_dir=\"./sft\" \\\n",
    "    --max_steps=500 \\\n",
    "    --logging_steps=10 \\\n",
    "    --save_steps=100 \\\n",
    "    --do_train \\\n",
    "    --per_device_train_batch_size=4 \\\n",
    "    --per_device_eval_batch_size=1 \\\n",
    "    --gradient_accumulation_steps=2 \\\n",
    "    --learning_rate=1e-4 \\\n",
    "    --lr_scheduler_type=\"cosine\" \\\n",
    "    --warmup_steps=100 \\\n",
    "    --weight_decay=0.05 \\\n",
    "    --optim=\"paged_adamw_32bit\" \\\n",
    "    --lora_target_modules \"q_proj\" \"v_proj\" \\\n",
    "    --bf16 \\\n",
    "    --remove_unused_columns=False \\\n",
    "    --run_name=\"sft_llama2\" \\\n",
    "    --report_to=none \\\n",
    "    --use_habana \\\n",
    "    --use_lazy_mode"
   ]
  },
  {
   "cell_type": "markdown",
   "id": "1ce41f05-1eac-4472-ab65-f481c6ee3560",
   "metadata": {},
   "source": [
    "To merge the adaptors to get the final sft merged checkpoint, we can use the merge_peft_adapter.py helper script that comes with TRL:"
   ]
  },
  {
   "cell_type": "code",
   "execution_count": null,
   "id": "1eae77b7-2202-43d4-999a-8c04b3b6dc90",
   "metadata": {},
   "outputs": [],
   "source": [
    "!python merge_peft_adapter.py --base_model_name=\"meta-llama/Llama-2-7b-hf\" --adapter_model_name=\"sft\" --output_name=\"sft/final_merged_checkpoint\""
   ]
  },
  {
   "cell_type": "markdown",
   "id": "43d5158b",
   "metadata": {},
   "source": [
    "2. Run the DPO trainer using the model saved by the previous step:"
   ]
  },
  {
   "cell_type": "code",
   "execution_count": null,
   "id": "73ec49d7",
   "metadata": {},
   "outputs": [],
   "source": [
    "!python dpo.py \\\n",
    "    --model_name_or_path=\"sft/final_merged_checkpoint\" \\\n",
    "    --tokenizer_name_or_path=meta-llama/Llama-2-7b-hf \\\n",
    "    --lora_target_modules \"q_proj\" \"v_proj\" \"k_proj\" \"out_proj\" \"fc_in\" \"fc_out\" \"wte\" \\\n",
    "    --output_dir=\"dpo\" \\\n",
    "    --report_to=none"
   ]
  },
  {
   "cell_type": "markdown",
   "id": "3683be1b",
   "metadata": {},
   "source": [
    "#### Merging the adaptors\n",
    "\n",
    "To merge the adaptors into the base model we can use the merge_peft_adapter.py helper script that comes with TRL:"
   ]
  },
  {
   "cell_type": "code",
   "execution_count": null,
   "id": "350dcfef",
   "metadata": {},
   "outputs": [],
   "source": [
    "!python merge_peft_adapter.py --base_model_name=\"meta-llama/Llama-2-7b-hf\" --adapter_model_name=\"dpo\" --output_name=\"stack-llama-2\""
   ]
  },
  {
   "cell_type": "markdown",
   "id": "46d0ef89",
   "metadata": {},
   "source": [
    "which will also push the model to your HuggingFace hub account."
   ]
  },
  {
   "cell_type": "markdown",
   "id": "f4375ad4",
   "metadata": {},
   "source": [
    "#### Running the model\n",
    "\n",
    "We can load the DPO-trained LoRA adaptors which were saved by the DPO training step and run it through the [text-generation example]([../text-generation/](https://github.com/huggingface/optimum-habana/tree/main/examples/text-generation))."
   ]
  },
  {
   "cell_type": "code",
   "execution_count": null,
   "id": "8750d250",
   "metadata": {},
   "outputs": [],
   "source": [
    "%!python ~/optimum-habana/examples/text-generation/run_generation.py \\\n",
    "--model_name_or_path stack-llama-2/ \\\n",
    "--use_hpu_graphs --use_kv_cache --batch_size 1 --bf16 --do_sample --max_new_tokens 50 \\\n",
    "--temperature 0.5 \\\n",
    "--top_p 0.5 \\\n",
    "--prompt \"When I go to New York I always go see \""
   ]
  },
  {
   "cell_type": "markdown",
   "id": "aae666d1-7e11-43fe-a73a-0f1edf047eb5",
   "metadata": {},
   "source": [
    "## Next Steps\n",
    "You now have access to all the Models in Model-References and Optimum-Habana repositories, you can start to look at other models.  Remember that all the models in these repositories are fully documented so they are easy to use.\n",
    "* To explore more models from the Model References, start [here](https://github.com/HabanaAI/Model-References).  \n",
    "* To run more examples using Hugging Face go [here](https://github.com/huggingface/optimum-habana?tab=readme-ov-file#validated-models).  \n",
    "* To migrate other models to Gaudi 2, refer to PyTorch Model Porting in the [documentation](https://docs.habana.ai/en/latest/PyTorch/PyTorch_Model_Porting/GPU_Migration_Toolkit/GPU_Migration_Toolkit.html)"
   ]
  },
  {
   "cell_type": "code",
   "execution_count": null,
   "id": "00ddf63e-263f-4de1-bed1-a959588b7b77",
   "metadata": {},
   "outputs": [],
   "source": [
    "exit()"
   ]
  }
 ],
 "metadata": {
  "kernelspec": {
   "display_name": "Python 3 (ipykernel)",
   "language": "python",
   "name": "python3"
  },
  "language_info": {
   "codemirror_mode": {
    "name": "ipython",
    "version": 3
   },
   "file_extension": ".py",
   "mimetype": "text/x-python",
   "name": "python",
   "nbconvert_exporter": "python",
   "pygments_lexer": "ipython3",
   "version": "3.10.12"
  }
 },
 "nbformat": 4,
 "nbformat_minor": 5
}
