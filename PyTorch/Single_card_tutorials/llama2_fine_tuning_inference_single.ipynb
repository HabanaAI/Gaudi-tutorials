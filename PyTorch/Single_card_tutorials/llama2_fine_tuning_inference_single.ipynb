{
 "cells": [
  {
   "cell_type": "markdown",
   "id": "9599e2f3-6b9c-4578-9501-7d5c65df408a",
   "metadata": {},
   "source": [
    "Copyright (c) 2024 Habana Labs, Ltd. an Intel Company.\n",
    "\n",
    "#### Licensed under the Apache License, Version 2.0 (the \"License\");\n",
    "you may not use this file except in compliance with the License. You may obtain a copy of the License at https://www.apache.org/licenses/LICENSE-2.0 Unless required by applicable law or agreed to in writing, software distributed under the License is distributed on an \"AS IS\" BASIS, WITHOUT WARRANTIES OR CONDITIONS OF ANY KIND, either express or implied. See the License for the specific language governing permissions and limitations under the License."
   ]
  },
  {
   "cell_type": "markdown",
   "id": "1a8d33aa-8f5b-4de3-bdaa-b2bfac88e1e8",
   "metadata": {},
   "source": [
    "# Using Parameter Efficient Fine Tuning on Llama 2 with 7B Parameters on One Intel&reg; Gaudi&reg; 2 AI Accelerator\n",
    "This example will Fine Tune the Llama2-7B model using Parameter Efficient Fine Tuning (PEFT) and then run inference on a text prompt.  This will be using the Llama2 model with two task examples from the Optimum Habana library on the Hugging Face model repository.   The Optimum Habana library is optimized for Deep Learning training and inference on First-gen Gaudi and Gaudi2 and offers tasks such as text generation, language modeling, question answering and more. For all the examples and models, please refer to the [Optimum Habana GitHub](https://github.com/huggingface/optimum-habana#validated-models).\n",
    "\n",
    "This example will Fine Tune the Llama2-7B model using Parameter Efficient Fine Tuning (PEFT) on the timdettmers/openassistant-guanaco dataset using the Language-Modeling Task in Optimum Habana."
   ]
  },
  {
   "cell_type": "code",
   "execution_count": null,
   "id": "86cee40d",
   "metadata": {},
   "outputs": [],
   "source": [
    "# Start with the `exit()` command to re-start the Python kernel to ensure that there are no other proceses holding the Intel Gaudi Accelerator as you start to run this notebook. You will see a warning that the kernel has died, this is expected.\n",
    "exit()"
   ]
  },
  {
   "cell_type": "markdown",
   "id": "f337ed16-dcfa-424f-a46d-933880d12d04",
   "metadata": {},
   "source": [
    "### Parameter Efficient Fine Tuning with Low Rank Adaptation\n",
    "Parameter Efficient Fine Tuning is a strategy for adapting large pre-trained language models to specific tasks while minimizing computational and memory demands.   It aims to reduce the computational cost and memory requirements associated with fine-tuning large models while maintaining or even improving their performance.  It does so by adding a smaller task-specific layer, leveraging knowledge distillation, and often relying on few-shot learning, resulting in efficient yet effective models for various natural language understanding tasks.   PEFT starts with a pre-trained language model that has already learned a wide range of language understanding tasks from a large corpus of text data. These models are usually large and computationally expensive.   Instead of fine-tuning the entire pre-trained model, PEFT adds a task-specific layer or a few task-specific layers on top of the pre-trained model. These additional layers are relatively smaller and have fewer parameters compared to the base model.\n"
   ]
  },
  {
   "cell_type": "code",
   "execution_count": null,
   "id": "404692f3-1266-4dcb-8885-ec6016aa5bef",
   "metadata": {},
   "outputs": [],
   "source": [
    "%cd ~/Gaudi-tutorials/PyTorch/Single_card_tutorials"
   ]
  },
  {
   "cell_type": "markdown",
   "id": "29ad8bfa-90ae-4e32-963f-821b92ddab0e",
   "metadata": {},
   "source": [
    "### Model Setup: "
   ]
  },
  {
   "cell_type": "markdown",
   "id": "9240274a-dd9a-4ca9-a73d-b4ff956c343d",
   "metadata": {},
   "source": [
    "##### Install the Parameter Efficient Fine Tuning Library methods\n",
    "This is taking the PEFT method from the Hugging Face repository and will be used to help create the PEFT Fine Tuning with the Llama2 model."
   ]
  },
  {
   "cell_type": "code",
   "execution_count": null,
   "id": "7d21efb3-978e-4585-915a-4c8a9ba9b064",
   "metadata": {},
   "outputs": [],
   "source": [
    "import sys\n",
    "!{sys.executable} -m pip install peft==0.10.0"
   ]
  },
  {
   "cell_type": "markdown",
   "id": "d91f0f3e-8bf8-4c1c-adbb-3926b292e5ed",
   "metadata": {},
   "source": [
    "##### Install the Optimum-Habana Library"
   ]
  },
  {
   "cell_type": "code",
   "execution_count": null,
   "id": "c8408759-937d-472a-bd00-e67142a90fbb",
   "metadata": {},
   "outputs": [],
   "source": [
    "!{sys.executable} -m pip install -q optimum-habana==1.14.0"
   ]
  },
  {
   "cell_type": "markdown",
   "id": "89b06c57-0d8c-4d40-85ae-1eea945a3ef9",
   "metadata": {},
   "source": [
    "##### Pull the Hugging Face Examples from GitHub\n",
    "These contain the working Hugging Face Task Examples that have been optimized for Gaudi.  For Fine Tuning, we'll use the language-modeling task. "
   ]
  },
  {
   "cell_type": "code",
   "execution_count": null,
   "id": "50af3c79-6641-47d7-a440-09eba2bd5765",
   "metadata": {},
   "outputs": [],
   "source": [
    "%cd ~/Gaudi-tutorials/PyTorch/Single_card_tutorials\n",
    "!git clone https://github.com/huggingface/optimum-habana.git\n",
    "%cd optimum-habana\n",
    "!git checkout v1.14.0\n",
    "%cd .."
   ]
  },
  {
   "cell_type": "markdown",
   "id": "11e369a6-ce17-40a2-8a52-d735b7140e09",
   "metadata": {},
   "source": [
    "##### Go to the Language Modeling Task and install the model specific requirements"
   ]
  },
  {
   "cell_type": "code",
   "execution_count": null,
   "id": "441de6d9-2b6f-4cf2-8bfd-664cec1c4998",
   "metadata": {},
   "outputs": [],
   "source": [
    "%cd ~/Gaudi-tutorials/PyTorch/Single_card_tutorials/optimum-habana/examples/language-modeling\n",
    "!pip install --quiet -r requirements.txt"
   ]
  },
  {
   "cell_type": "markdown",
   "id": "88ed7d45",
   "metadata": {},
   "source": [
    "##### How to access and Use the Llama 2 model - Get a Security Token \n",
    "\n",
    "Use of the pretrained model is subject to compliance with third party licenses, including the “Llama 2 Community License Agreement” (LLAMAV2). For guidance on the intended use of the LLAMA2 model, what will be considered misuse and out-of-scope uses, who are the intended users and additional terms please review and read the instructions in this link https://ai.meta.com/llama/license/.\n",
    "Users bear sole liability and responsibility to follow and comply with any third party licenses, and Habana Labs disclaims and will bear no liability with respect to users’ use or compliance with third party licenses.\n",
    "\n",
    "To be able to run gated models like the Meta Llama model you need to get a security token:\n",
    "- Have a HuggingFace account  \n",
    "- Read more about Hugging Face [security tokens](https://huggingface.co/docs/hub/en/security-tokens)\n",
    "- Agree to the terms of use of the Llama 2 model in its [model card](https://huggingface.co/meta-llama/Llama-2-7b-hf) on the HF Hub\n",
    "- set a read token and copy this in place of the `<your_token_here>` in the cell below\n",
    "- Login to your account using the HF CLI: run huggingface-cli login before launching your script"
   ]
  },
  {
   "cell_type": "code",
   "execution_count": null,
   "id": "2aa53882-c834-4ff3-8fc4-742579ee8cea",
   "metadata": {},
   "outputs": [],
   "source": [
    "!huggingface-cli login --token <your_token_here>"
   ]
  },
  {
   "cell_type": "markdown",
   "id": "e2d4c81e-c48d-45e0-93de-579e53995602",
   "metadata": {},
   "source": [
    "## Fine Tuning the model with PEFT and LoRA\n",
    "\n",
    "We'll now run the fine tuning with the PEFT method. Remember that the PEFT methods only fine-tune a small number of extra model parameters, thereby greatly decreasing the computational and storage costs. Recent State-of-the-Art PEFT techniques achieve performance comparable to that of full fine-tuning.\n",
    "\n",
    "##### Here's a summary of the Fine Tuning command in the cell below. \n",
    "1. Using the language modeling with LoRA; `run_lora_clm.py`; It's very efficient: only 0.06% of the total parameters are being fine tuned of the total 7B parameters.\n",
    "2. Only 3 epochs are needed for fine tuning, it takes less than 20 minutes to run with the openassisant-guanaco dataset.\n",
    "3. There are some Intel Gaudi specific run commands here, including `use_habana` to ensure the workload runs on Intel Gaudi, `use_lazy_mode` to ensure a more efficient lazy execution.  You can refer to the details in the [Hugging Face examples](https://github.com/huggingface/optimum-habana/tree/main/examples/language-modeling) for more background on each of the model parameters. \n"
   ]
  },
  {
   "cell_type": "code",
   "execution_count": null,
   "id": "59efbfa4-4669-434f-ab94-cf12bfdfa39e",
   "metadata": {},
   "outputs": [],
   "source": [
    "!python3 run_lora_clm.py \\\n",
    "    --overwrite_output_dir=True \\\n",
    "    --model_name_or_path meta-llama/Llama-2-7b-hf \\\n",
    "    --dataset_name timdettmers/openassistant-guanaco \\\n",
    "    --bf16 True \\\n",
    "    --output_dir ~/Gaudi-tutorials/PyTorch/Single_card_tutorials/model_lora_llama_single \\\n",
    "    --num_train_epochs 3 \\\n",
    "    --per_device_train_batch_size 16 \\\n",
    "    --evaluation_strategy \"no\" \\\n",
    "    --save_strategy \"no\" \\\n",
    "    --learning_rate 1e-4 \\\n",
    "    --warmup_ratio  0.03 \\\n",
    "    --lr_scheduler_type \"constant\" \\\n",
    "    --max_grad_norm  0.3 \\\n",
    "    --logging_steps 1 \\\n",
    "    --do_train \\\n",
    "    --do_eval \\\n",
    "    --use_habana \\\n",
    "    --use_lazy_mode \\\n",
    "    --throughput_warmup_steps 3 \\\n",
    "    --lora_rank=8 \\\n",
    "    --lora_alpha=16 \\\n",
    "    --lora_dropout=0.05 \\\n",
    "    --lora_target_modules \"q_proj\" \"v_proj\" \\\n",
    "    --dataset_concatenation \\\n",
    "    --report_to none \\\n",
    "    --max_seq_length 512 \\\n",
    "    --low_cpu_mem_usage True \\\n",
    "    --validation_split_percentage 4 \\\n",
    "    --adam_epsilon 1e-08"
   ]
  },
  {
   "cell_type": "markdown",
   "id": "340f4aa5-5dc0-4662-bbca-a7a156be37f2",
   "metadata": {},
   "source": [
    "#### LoRA Fine Tuning Completed\n",
    "You will now see a \"model_lora_llama_single\" folder created which contains the PEFT model `adapter_model.safetensors` which will be used in the inference example below. "
   ]
  },
  {
   "cell_type": "code",
   "execution_count": null,
   "id": "bc9aba2f",
   "metadata": {},
   "outputs": [],
   "source": [
    "%ls -lS ~/Gaudi-tutorials/PyTorch/Single_card_tutorials/model_lora_llama_single"
   ]
  },
  {
   "cell_type": "markdown",
   "id": "c2a5b5cf-e4a4-4d67-888b-e3ddcdff1a5d",
   "metadata": {},
   "source": [
    "## Inference with Llama 2\n",
    "\n",
    "We'll now use the Hugging Face `text-generation` task to run inference on the Llama2-7b model; we'll generate text based on an included prompt.  Notice that we've included a path to the PEFT model that we've just created.\n",
    "\n",
    "First, we'll move to the text-generation examples folder and install the requirements. "
   ]
  },
  {
   "cell_type": "code",
   "execution_count": null,
   "id": "14841b58-2697-459d-ace5-763d721468f8",
   "metadata": {},
   "outputs": [],
   "source": [
    "%cd ~/Gaudi-tutorials/PyTorch/Single_card_tutorials/optimum-habana/examples/text-generation\n",
    "!pip install --quiet -r requirements.txt"
   ]
  },
  {
   "cell_type": "markdown",
   "id": "03479984-e872-48df-b106-cb9b1dd445d3",
   "metadata": {},
   "source": [
    "You will see that we are now running inference with the `run_generation.py` task and we are including the PEFT model that we Fine Tuned in the steps above. \n",
    "\n",
    "```\n",
    "--prompt \"I am a dog. Please help me plan a surprise birthday party for my human, including fun activities, games and decorations. And don't forget to order a big bone-shaped cake for me to share with my fur friends!\" \\\n",
    "--peft_model /root/Gaudi-tutorials/PyTorch/Single_card_tutorials/optimum-habana/examples/language-modeling/model_lora_llama_single\n",
    "```"
   ]
  },
  {
   "cell_type": "code",
   "execution_count": null,
   "id": "e32f89a0-4bdc-4ca4-9855-88060b7f140e",
   "metadata": {},
   "outputs": [],
   "source": [
    "# Use the prompt above to compare between the PEFT and non-PEFT examples\n",
    "prompt = input(\"Enter a prompt for text generation: \")"
   ]
  },
  {
   "cell_type": "markdown",
   "id": "dcd2db64",
   "metadata": {},
   "source": [
    "Before running the model, there are some Intel Gaudi accelerator specific items:\n",
    "* The options `use_hpu_graphs` and `use_kv_cache` are set for Intel Gaudi performance. All Llama based Hugging Face models support HPU-graphs and KV-cache optimizations  \n",
    "* The `max_new_tokens` can be set to control the length of the output generated by the run_generation.py script"
   ]
  },
  {
   "cell_type": "code",
   "execution_count": null,
   "id": "d466f4a2-3607-4e8f-8b2d-1aefcc7d81aa",
   "metadata": {},
   "outputs": [],
   "source": [
    "!python3 run_generation.py \\\n",
    "    --model_name_or_path meta-llama/Llama-2-7b-hf \\\n",
    "    --batch_size 1 \\\n",
    "    --do_sample \\\n",
    "    --max_new_tokens 300 \\\n",
    "    --use_hpu_graphs \\\n",
    "    --use_kv_cache \\\n",
    "    --bf16 \\\n",
    "    --prompt \"{prompt}\" \\\n",
    "    --peft_model ~/Gaudi-tutorials/PyTorch/Single_card_tutorials/model_lora_llama_single"
   ]
  },
  {
   "cell_type": "markdown",
   "id": "d269a38c-eeab-49d8-b12a-73599636e445",
   "metadata": {},
   "source": [
    "##### Comparison without PEFT and LoRA\n",
    "In this example, we're simply running the Llama2 7B model **without** including the PEFT fine tuned model, so that you are losing the additional detail that is brought to the model, and the results have signficantly less information and fidelity compared to the last model."
   ]
  },
  {
   "cell_type": "code",
   "execution_count": null,
   "id": "0a7a9804-cf3e-4bd3-adba-b8d39a9d55a9",
   "metadata": {
    "scrolled": true
   },
   "outputs": [],
   "source": [
    "!python3 run_generation.py \\\n",
    "    --model_name_or_path meta-llama/Llama-2-7b-hf \\\n",
    "    --batch_size 1 \\\n",
    "    --do_sample \\\n",
    "    --max_new_tokens 300 \\\n",
    "    --use_hpu_graphs \\\n",
    "    --use_kv_cache \\\n",
    "    --bf16 \\\n",
    "    --prompt \"{prompt}\""
   ]
  },
  {
   "cell_type": "code",
   "execution_count": null,
   "id": "a34e1747-57ea-44aa-a564-4af8d303d72a",
   "metadata": {},
   "outputs": [],
   "source": [
    "# Please be sure to run this exit command to ensure that the resources running on Intel Gaudi are released \n",
    "exit()"
   ]
  }
 ],
 "metadata": {
  "kernelspec": {
   "display_name": "Python 3 (ipykernel)",
   "language": "python",
   "name": "python3"
  },
  "language_info": {
   "codemirror_mode": {
    "name": "ipython",
    "version": 3
   },
   "file_extension": ".py",
   "mimetype": "text/x-python",
   "name": "python",
   "nbconvert_exporter": "python",
   "pygments_lexer": "ipython3",
   "version": "3.10.12"
  }
 },
 "nbformat": 4,
 "nbformat_minor": 5
}
