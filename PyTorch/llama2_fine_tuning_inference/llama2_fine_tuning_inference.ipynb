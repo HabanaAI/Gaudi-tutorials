{
 "cells": [
  {
   "cell_type": "markdown",
   "id": "9599e2f3-6b9c-4578-9501-7d5c65df408a",
   "metadata": {},
   "source": [
    "Copyright (c) 2024 Habana Labs, Ltd. an Intel Company.\n",
    "\n",
    "#### Licensed under the Apache License, Version 2.0 (the \"License\");\n",
    "you may not use this file except in compliance with the License. You may obtain a copy of the License at https://www.apache.org/licenses/LICENSE-2.0 Unless required by applicable law or agreed to in writing, software distributed under the License is distributed on an \"AS IS\" BASIS, WITHOUT WARRANTIES OR CONDITIONS OF ANY KIND, either express or implied. See the License for the specific language governing permissions and limitations under the License."
   ]
  },
  {
   "cell_type": "markdown",
   "id": "1a8d33aa-8f5b-4de3-bdaa-b2bfac88e1e8",
   "metadata": {},
   "source": [
    "# Using Paramater Efficient Fine Tuning on Llama 2 with 70B Parameters\n",
    "This example will Fine Tune the Llama2-70B model using Parameter Efficient Fine Tuining (PEFT) and then run inference on a text prompt.  This will be using the Llama2 model with two task examples from the Optimum Habana library on the Hugging Face model repository.   The Optimum Habana library is optimized for Deep Learning training and inference on First-gen Gaudi and Gaudi2 and offers tasks such as text generation, language modeling, question answering and more. For all the examples and models, please refer to the [Optimum Habana GitHub](https://github.com/huggingface/optimum-habana#validated-models).\n",
    "\n",
    "This example will Fine Tune the Llama2-70B model using Parameter Efficient Fine Tuining (PEFT) on the timdettmers/openassistant-guanaco dataset using the Language-Modeling Task in Optimum Habana."
   ]
  },
  {
   "cell_type": "code",
   "execution_count": null,
   "id": "6527a3db",
   "metadata": {},
   "outputs": [],
   "source": [
    "# Start with the `exit()` command to re-start the Python kernel to ensure that there are no other proceses holding the Intel Gaudi Accelerator as you start to run this notebook.\n",
    "exit()"
   ]
  },
  {
   "cell_type": "markdown",
   "id": "f337ed16-dcfa-424f-a46d-933880d12d04",
   "metadata": {},
   "source": [
    "### Parameter Efficient Fine Tuning with Low Rank Adaptation\n",
    "Parameter Efficient Fine Tuning is a strategy for adapting large pre-trained language models to specific tasks while minimizing computational and memory demands.   It aims to reduce the computational cost and memory requirements associated with fine-tuning large models while maintaining or even improving their performance.  It does so by adding a smaller task-specific layer, leveraging knowledge distillation, and often relying on few-shot learning, resulting in efficient yet effective models for various natural language understanding tasks.   PEFT starts with a pre-trained language model that has already learned a wide range of language understanding tasks from a large corpus of text data. These models are usually large and computationally expensive.   Instead of fine-tuning the entire pre-trained model, PEFT adds a task-specific layer or a few task-specific layers on top of the pre-trained model. These additional layers are relatively smaller and have fewer parameters compared to the base model.\n"
   ]
  },
  {
   "cell_type": "code",
   "execution_count": null,
   "id": "404692f3-1266-4dcb-8885-ec6016aa5bef",
   "metadata": {},
   "outputs": [],
   "source": [
    "%cd ~/Gaudi-tutorials/PyTorch/llama2_fine_tuning_inference"
   ]
  },
  {
   "cell_type": "markdown",
   "id": "29ad8bfa-90ae-4e32-963f-821b92ddab0e",
   "metadata": {},
   "source": [
    "### Model Setup: "
   ]
  },
  {
   "cell_type": "markdown",
   "id": "f4db7e60-ff31-4a76-9dd5-cb4eb76412b9",
   "metadata": {},
   "source": [
    "##### Install the latest version of the Habana Deepspeed Library"
   ]
  },
  {
   "cell_type": "code",
   "execution_count": null,
   "id": "aaab9f1b-f081-4156-b86f-b1e9b23f9a4f",
   "metadata": {},
   "outputs": [],
   "source": [
    "!pip install -q git+https://github.com/HabanaAI/DeepSpeed.git@1.18.0"
   ]
  },
  {
   "cell_type": "markdown",
   "id": "9240274a-dd9a-4ca9-a73d-b4ff956c343d",
   "metadata": {},
   "source": [
    "##### Install the Parameter Efficient Fine Tuning Library methods\n",
    "This is taking the PEFT method from the Hugging Face repository and will be used to help create the PEFT Fine Tuning with the Llama2 model."
   ]
  },
  {
   "cell_type": "code",
   "execution_count": null,
   "id": "7d21efb3-978e-4585-915a-4c8a9ba9b064",
   "metadata": {},
   "outputs": [],
   "source": [
    "!pip install peft==0.11.1"
   ]
  },
  {
   "cell_type": "markdown",
   "id": "d91f0f3e-8bf8-4c1c-adbb-3926b292e5ed",
   "metadata": {},
   "source": [
    "##### Install the Optimum-Habana Library"
   ]
  },
  {
   "cell_type": "code",
   "execution_count": null,
   "id": "c8408759-937d-472a-bd00-e67142a90fbb",
   "metadata": {},
   "outputs": [],
   "source": [
    "!pip install -q optimum-habana==1.14.0"
   ]
  },
  {
   "cell_type": "markdown",
   "id": "89b06c57-0d8c-4d40-85ae-1eea945a3ef9",
   "metadata": {},
   "source": [
    "##### Pull the Hugging Face Examples from GitHub\n",
    "These contain the working Hugging Face Task Examples that have been optimized for Gaudi.  For Fine Tuning, we'll use the language-modeling task. "
   ]
  },
  {
   "cell_type": "code",
   "execution_count": null,
   "id": "50af3c79-6641-47d7-a440-09eba2bd5765",
   "metadata": {},
   "outputs": [],
   "source": [
    "%cd ~/Gaudi-tutorials/PyTorch/llama2_fine_tuning_inference\n",
    "!git clone https://github.com/huggingface/optimum-habana.git\n",
    "%cd optimum-habana\n",
    "!git checkout v1.14.0\n",
    "%cd .."
   ]
  },
  {
   "cell_type": "markdown",
   "id": "11e369a6-ce17-40a2-8a52-d735b7140e09",
   "metadata": {},
   "source": [
    "##### Go to the Language Modeling Task and install the model specific requirements"
   ]
  },
  {
   "cell_type": "code",
   "execution_count": null,
   "id": "441de6d9-2b6f-4cf2-8bfd-664cec1c4998",
   "metadata": {},
   "outputs": [],
   "source": [
    "%cd optimum-habana/examples/language-modeling/\n",
    "!pip install --quiet -r requirements.txt"
   ]
  },
  {
   "cell_type": "markdown",
   "id": "88ed7d45",
   "metadata": {},
   "source": [
    "##### How to access and Use the Llama 2 model\n",
    "\n",
    "Use of the pretrained model is subject to compliance with third party licenses, including the “Llama 2 Community License Agreement” (LLAMAV2). For guidance on the intended use of the LLAMA2 model, what will be considered misuse and out-of-scope uses, who are the intended users and additional terms please review and read the instructions in this link https://ai.meta.com/llama/license/.\n",
    "Users bear sole liability and responsibility to follow and comply with any third party licenses, and Habana Labs disclaims and will bear no liability with respect to users’ use or compliance with third party licenses.\n",
    "\n",
    "To be able to run gated models like this Llama-2-70b-hf, you need the following: \n",
    "- Have a HuggingFace account\n",
    "- Agree to the terms of use of the model in its model card on the HF Hub\n",
    "- set a read token\n",
    "- Login to your account using the HF CLI: run huggingface-cli login before launching your script"
   ]
  },
  {
   "cell_type": "code",
   "execution_count": null,
   "id": "2aa53882-c834-4ff3-8fc4-742579ee8cea",
   "metadata": {},
   "outputs": [],
   "source": [
    "!huggingface-cli login --token <your_token_here>"
   ]
  },
  {
   "cell_type": "markdown",
   "id": "e2d4c81e-c48d-45e0-93de-579e53995602",
   "metadata": {},
   "source": [
    "## Fine Tuning the model with PEFT and LoRA\n",
    "\n",
    "We'll now run the fine tuning with the PEFT method. Remember that the PEFT methods only fine-tune a small number of extra model parameters, thereby greatly decreasing the computational and storage costs. Recent State-of-the-Art PEFT techniques achieve performance comparable to that of full fine-tuning.\n",
    "\n",
    "##### Here's a summary of the command required to run the Fine Tuning, you'll run this in the next cell below. \n",
    "Note in this case the following: \n",
    "1. Using the language modeling with LoRA; `run_lora_clm.py`\n",
    "2. It's very efficient: only 0.02% of the total paramters are being fine tuned of the total 70B parameters.\n",
    "3. Using DeepSpeed has reduced the max amount of memory to ~73.9 GB out of a total memory available 94.6 GB\n",
    "4. Only 2 epochs are needed for fine tuning, it takes less than 38 minutes to run with the openassisant-guanaco dataset.  (Running the Llama 2 7B or 13B models will be faster, see the addendum below)\n",
    "\n",
    "NOTE: In some cases running the full Llama2 70B Fine Tuning in the Juypter Notebook may cause errors.   It's safer to run this in a standard terminal window.   Simply copy the command below and run this in a Terminal window in the same folder location:"
   ]
  },
  {
   "cell_type": "code",
   "execution_count": null,
   "id": "ed5d6093-978c-4c4f-b2ab-c3f571e013d8",
   "metadata": {},
   "outputs": [],
   "source": [
    "!PT_HPU_MAX_COMPOUND_OP_SIZE=10  DEEPSPEED_HPU_ZERO3_SYNC_MARK_STEP_REQUIRED=1 \\\n",
    "python3 ../gaudi_spawn.py --use_deepspeed  --world_size 8 run_lora_clm.py \\\n",
    "  --model_name_or_path meta-llama/Llama-2-70b-hf \\\n",
    "  --deepspeed llama2_ds_zero3_config.json \\\n",
    "  --dataset_name timdettmers/openassistant-guanaco \\\n",
    "  --bf16 True\\\n",
    "  --output_dir ./model_lora_llama \\\n",
    "  --num_train_epochs 2 \\\n",
    "  --max_seq_len 2048 \\\n",
    "  --per_device_train_batch_size 10 \\\n",
    "  --per_device_eval_batch_size 10 \\\n",
    "  --gradient_checkpointing \\\n",
    "  --evaluation_strategy epoch \\\n",
    "  --eval_delay 2 \\\n",
    "  --save_strategy no \\\n",
    "  --learning_rate 0.0018 \\\n",
    "  --warmup_ratio 0.03 \\\n",
    "  --lr_scheduler_type \"cosine\" \\\n",
    "  --logging_steps 1 \\\n",
    "  --dataset_concatenation \\\n",
    "  --attn_softmax_bf16 True \\\n",
    "  --do_train \\\n",
    "  --do_eval \\\n",
    "  --use_habana \\\n",
    "  --use_lazy_mode \\\n",
    "  --report_to none \\\n",
    "  --pipelining_fwd_bwd \\\n",
    "  --throughput_warmup_steps 3 \\\n",
    "  --lora_rank 4\\\n",
    "  --lora_target_modules \"q_proj\" \"v_proj\" \"k_proj\" \"o_proj\" \\\n",
    "  --validation_split_percentage 4 "
   ]
  },
  {
   "cell_type": "markdown",
   "id": "340f4aa5-5dc0-4662-bbca-a7a156be37f2",
   "metadata": {},
   "source": [
    "#### LoRA Fine Tuning Completed\n",
    "You will now see a \"model_lora_llama\" folder created which contains the PEFT model `adapter_model.bin` which will be used in the inference example below. "
   ]
  },
  {
   "cell_type": "code",
   "execution_count": null,
   "id": "7063c217",
   "metadata": {},
   "outputs": [],
   "source": [
    "%ls -lS ~/Gaudi-tutorials/PyTorch/llama2_fine_tuning_inference/optimum-habana/examples/language-modeling/model_lora_llama"
   ]
  },
  {
   "cell_type": "markdown",
   "id": "c2a5b5cf-e4a4-4d67-888b-e3ddcdff1a5d",
   "metadata": {},
   "source": [
    "## Inference with Llama 2\n",
    "\n",
    "We'll now use the Hugging Face `text-generation` task to run inference on the Llama2-70b model; we'll generate text based on an included prompt.  Notice that we've included a path to the PEFT model that we just created.\n",
    "\n",
    "First, we'll move to the text-generation examples folder and install the requirements. "
   ]
  },
  {
   "cell_type": "code",
   "execution_count": null,
   "id": "14841b58-2697-459d-ace5-763d721468f8",
   "metadata": {},
   "outputs": [],
   "source": [
    "%cd ~/Gaudi-tutorials/PyTorch/llama2_fine_tuning_inference/optimum-habana/examples/text-generation\n",
    "!pip install --quiet -r requirements.txt"
   ]
  },
  {
   "cell_type": "markdown",
   "id": "03479984-e872-48df-b106-cb9b1dd445d3",
   "metadata": {},
   "source": [
    "You will see that we are now running inference with the `run_generation.py` task and we are including the PEFT model that we Fine Tuned in the steps above. \n",
    "\n",
    "```\n",
    "   --prompt \"I am a dog. Please help me plan a surprise birthday party for my human, including fun activities, games and decorations. And don't forget to order a big bone-shaped cake for me to share with my fur friends!\" \\\n",
    "   --peft_model /root/Gaudi-tutorials/PyTorch/llama2_fine_tuning_inference/optimum-habana/examples/language-modeling/model_lora_llama \n",
    "```"
   ]
  },
  {
   "cell_type": "code",
   "execution_count": null,
   "id": "e32f89a0-4bdc-4ca4-9855-88060b7f140e",
   "metadata": {},
   "outputs": [],
   "source": [
    "# Use the prompt above to compare between the PEFT and non-PEFT examples\n",
    "prompt = input(\"Enter a prompt for text generation: \")"
   ]
  },
  {
   "cell_type": "code",
   "execution_count": null,
   "id": "d466f4a2-3607-4e8f-8b2d-1aefcc7d81aa",
   "metadata": {},
   "outputs": [],
   "source": [
    "!python3 ../gaudi_spawn.py --use_deepspeed  --world_size 8  run_generation.py \\\n",
    "   --model_name_or_path meta-llama/Llama-2-70b-hf \\\n",
    "   --batch_size 1 \\\n",
    "   --do_sample \\\n",
    "   --max_new_tokens 250 \\\n",
    "   --use_kv_cache \\\n",
    "   --use_hpu_graphs \\\n",
    "   --bf16 \\\n",
    "   --prompt \"{prompt}\" \\\n",
    "   --peft_model /root/Gaudi-tutorials/PyTorch/llama2_fine_tuning_inference/optimum-habana/examples/language-modeling/model_lora_llama/"
   ]
  },
  {
   "cell_type": "markdown",
   "id": "40985bfa",
   "metadata": {},
   "source": [
    "###### Inference Output with PEFT\n",
    "\n",
    "```\n",
    "input 1: (\"I am a dog. Please help me plan a surprise birthday party for my human, including fun activities, games and decorations. And don't forget to order a big bone-shaped cake for me to share with my fur friends!\",)\n",
    "output 1: ('I am a dog. Please help me plan a surprise birthday party for my human, including fun activities, games and decorations. And don\\'t forget to order a big bone-shaped cake for me to share with my fur friends!\n",
    "\n",
    "Assistant: Hey there pup! I can help you plan your human\\'s birthday party. Here are some ideas for fun activities and games you can play together:\\n\\n\n",
    "1. A \"Find the Treat\" scavenger hunt: Hide treats around your home or yard for your human to find. Provide clues and hints along the way.\\n\n",
    "2. \"Tug-of-War\": Play a game of tug-of-war with a rope tied to a tree stump or post.\\n\n",
    "3. \"Frisbee Fun\": Invite your human to a game of fetch with a Frisbee in the park or backyard.\\n\\n\n",
    "Decorations can include: Dog-shaped balloons, paw print streamers, and a banner saying \"Happy Birthday\" with your human\\'s name.\\n\\n\n",
    "And don\\'t forget to order a cake in the shape of a big bone for you and your fur friends to share!\n",
    "```"
   ]
  },
  {
   "cell_type": "markdown",
   "id": "d269a38c-eeab-49d8-b12a-73599636e445",
   "metadata": {},
   "source": [
    "##### Comparison without PEFT and LoRA\n",
    "In this example, we're simply running the Llama2 7B model **without** including the PEFT fine tuned model, so the you are losing the additional detail that is brought to the model, and the results have signficantly less information and fidelity compared to the last model."
   ]
  },
  {
   "cell_type": "code",
   "execution_count": null,
   "id": "0a7a9804-cf3e-4bd3-adba-b8d39a9d55a9",
   "metadata": {
    "scrolled": true
   },
   "outputs": [],
   "source": [
    "!python3 ../gaudi_spawn.py --use_deepspeed  --world_size 8  run_generation.py \\\n",
    "   --model_name_or_path meta-llama/Llama-2-70b-hf \\\n",
    "   --batch_size 1 \\\n",
    "   --do_sample \\\n",
    "   --max_new_tokens 250 \\\n",
    "   --n_iterations 4 \\\n",
    "   --use_kv_cache \\\n",
    "   --use_hpu_graphs \\\n",
    "   --bf16 \\\n",
    "   --prompt \"{prompt}\""
   ]
  },
  {
   "cell_type": "markdown",
   "id": "560ba49f",
   "metadata": {},
   "source": [
    "###### Inference Output without PEFT (using just standard Llama 2 model)\n",
    "\n",
    "```\n",
    "input 1: (\"I am a dog. Please help me plan a surprise birthday party for my human, including fun activities, games and decorations. And don't forget to order a big bone-shaped cake for me to share with my fur friends!\",)\n",
    "output 1: (\"I am a dog. Please help me plan a surprise birthday party for my human, including fun activities, games and decorations. And don't forget to order a big bone-shaped cake for me to share with my fur friends!\\n\n",
    "\n",
    "Make sure that you do not make a big noise because my human doesn’t know that we are planning a birthday party. Thanks to your help now I am sure there are no more things to worry about.\\n\n",
    "The dog does not have to worry that the human will find out about the party. She should not worry about the noise while planning the party. There will be big bone-shaped cake for the guest of honor to share with his fur friends. There will be fun activities, games and decorations. The following items are tagged newsletter marketing:\\n\n",
    "```"
   ]
  },
  {
   "cell_type": "code",
   "execution_count": null,
   "id": "a34e1747-57ea-44aa-a564-4af8d303d72a",
   "metadata": {},
   "outputs": [],
   "source": [
    "# Run this cell if you are finished with the tutorial and do not want to run the Addendum below. \n",
    "exit()"
   ]
  },
  {
   "cell_type": "markdown",
   "id": "d29233ce-11b6-4fb0-8750-ab534e79533a",
   "metadata": {},
   "source": [
    "#### ADDENDUM: Running with Llama 2 7B or 13B Parameters\n",
    "For a faster runtime you can use the smaller Llama 2 7B or 13B model. "
   ]
  },
  {
   "cell_type": "code",
   "execution_count": null,
   "id": "2bfcbb53",
   "metadata": {},
   "outputs": [],
   "source": [
    "# Go back to the Language Modeling task to Fine Tune the Llama 7B model.\n",
    "%cd ~/Gaudi-tutorials/PyTorch/llama2_fine_tuning_inference/optimum-habana/examples/language-modeling/"
   ]
  },
  {
   "cell_type": "code",
   "execution_count": null,
   "id": "c7d6b699-b2b0-4b46-b508-7b1e1d6a753f",
   "metadata": {},
   "outputs": [],
   "source": [
    "!python3 ../gaudi_spawn.py --use_deepspeed \\\n",
    "       --world_size 8 run_lora_clm.py \\\n",
    "       --model_name_or_path meta-llama/Llama-2-7b-hf  \\\n",
    "       --dataset_name timdettmers/openassistant-guanaco \\\n",
    "       --bf16 True \\\n",
    "       --output_dir ./model_lora_llama_7b \\\n",
    "       --num_train_epochs 2 \\\n",
    "       --per_device_train_batch_size 2 \\\n",
    "       --per_device_eval_batch_size 2 \\\n",
    "       --gradient_accumulation_steps 4 \\\n",
    "       --evaluation_strategy \"no\"\\\n",
    "       --save_strategy \"steps\"\\\n",
    "       --save_steps 2000 \\\n",
    "       --save_total_limit 1 \\\n",
    "       --learning_rate 1e-4 \\\n",
    "       --logging_steps 1 \\\n",
    "       --dataset_concatenation \\\n",
    "       --do_train \\\n",
    "       --report_to none \\\n",
    "       --use_habana \\\n",
    "       --use_lazy_mode \\\n",
    "       --throughput_warmup_steps 3"
   ]
  },
  {
   "cell_type": "markdown",
   "id": "ca86c3a2-882a-42a6-aaba-4eb2ed968d42",
   "metadata": {},
   "source": [
    "Once the Fine Tuning is completed, you can move to the text-generation task to run inference and generate text"
   ]
  },
  {
   "cell_type": "code",
   "execution_count": null,
   "id": "1304e527-436b-4547-be8d-4a0c3b26c28d",
   "metadata": {},
   "outputs": [],
   "source": [
    "%cd ~/Gaudi-tutorials/PyTorch/llama2_fine_tuning_inference/optimum-habana/examples/text-generation\n",
    "!pip install -q -r requirements.txt"
   ]
  },
  {
   "cell_type": "code",
   "execution_count": null,
   "id": "f9bc04b3-be73-4b38-9f5a-6dba31a8efa8",
   "metadata": {},
   "outputs": [],
   "source": [
    "prompt7b = input(\"Enter a prompt for text generation: \")"
   ]
  },
  {
   "cell_type": "markdown",
   "id": "7ccd9612-ee3c-4642-a6f7-4f0a30013656",
   "metadata": {},
   "source": [
    "This is the output with the PEFT fine tuning added"
   ]
  },
  {
   "cell_type": "code",
   "execution_count": null,
   "id": "7115d1ea-8bab-4e29-8cef-f194b9c0c3c1",
   "metadata": {},
   "outputs": [],
   "source": [
    "!python3 run_generation.py --model_name_or_path meta-llama/Llama-2-7b-hf --batch_size 1 --do_sample --max_new_tokens 250 --n_iterations 4 --use_kv_cache --use_hpu_graphs \\\n",
    "--bf16 --prompt \"{prompt7b}\" \\\n",
    "--peft_model /root/Gaudi-tutorials/PyTorch/llama2_fine_tuning_inference/optimum-habana/examples/language-modeling/model_lora_llama_7b/"
   ]
  },
  {
   "cell_type": "markdown",
   "id": "02fc3067-72fa-43c6-aa49-a092a2eb8049",
   "metadata": {},
   "source": [
    "This is the output without the PEFT fine tuning"
   ]
  },
  {
   "cell_type": "code",
   "execution_count": null,
   "id": "64f603ec-952b-42a3-a4ab-e4edbe5ba1ae",
   "metadata": {},
   "outputs": [],
   "source": [
    "!python3 run_generation.py --model_name_or_path meta-llama/Llama-2-7b-hf --batch_size 1 --do_sample --max_new_tokens 250 --n_iterations 4 --use_kv_cache --use_hpu_graphs \\\n",
    "--bf16 --prompt \"{prompt7b}\""
   ]
  },
  {
   "cell_type": "code",
   "execution_count": null,
   "id": "ef0c837d-cc23-4404-9069-b1fa66a341eb",
   "metadata": {},
   "outputs": [],
   "source": [
    "exit()"
   ]
  }
 ],
 "metadata": {
  "kernelspec": {
   "display_name": "Python 3 (ipykernel)",
   "language": "python",
   "name": "python3"
  },
  "language_info": {
   "codemirror_mode": {
    "name": "ipython",
    "version": 3
   },
   "file_extension": ".py",
   "mimetype": "text/x-python",
   "name": "python",
   "nbconvert_exporter": "python",
   "pygments_lexer": "ipython3",
   "version": "3.10.12"
  }
 },
 "nbformat": 4,
 "nbformat_minor": 5
}
